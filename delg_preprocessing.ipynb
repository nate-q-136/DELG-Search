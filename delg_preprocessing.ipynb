{
  "cells": [
    {
      "cell_type": "code",
      "execution_count": null,
      "id": "af2fac3f",
      "metadata": {
        "_cell_guid": "b1076dfc-b9ad-4769-8c92-a6c4dae69d19",
        "_uuid": "8f2839f25d086af736a60e9eeb907d3b93b6e0e5",
        "execution": {
          "iopub.execute_input": "2024-11-15T14:31:03.949527Z",
          "iopub.status.busy": "2024-11-15T14:31:03.948934Z",
          "iopub.status.idle": "2024-11-15T14:31:04.717495Z",
          "shell.execute_reply": "2024-11-15T14:31:04.716740Z"
        },
        "papermill": {
          "duration": 0.775224,
          "end_time": "2024-11-15T14:31:04.719748",
          "exception": false,
          "start_time": "2024-11-15T14:31:03.944524",
          "status": "completed"
        },
        "tags": [],
        "id": "af2fac3f"
      },
      "outputs": [],
      "source": [
        "# This Python 3 environment comes with many helpful analytics libraries installed\n",
        "# It is defined by the kaggle/python Docker image: https://github.com/kaggle/docker-python\n",
        "# For example, here's several helpful packages to load\n",
        "\n",
        "import numpy as np # linear algebra\n",
        "import pandas as pd # data processing, CSV file I/O (e.g. pd.read_csv)\n",
        "\n",
        "# Input data files are available in the read-only \"../input/\" directory\n",
        "# For example, running this (by clicking run or pressing Shift+Enter) will list all files under the input directory\n",
        "\n",
        "import os\n",
        "for dirname, _, filenames in os.walk('/kaggle/input'):\n",
        "    for filename in filenames:\n",
        "        print(os.path.join(dirname, filename))\n",
        "\n",
        "# You can write up to 20GB to the current directory (/kaggle/working/) that gets preserved as output when you create a version using \"Save & Run All\"\n",
        "# You can also write temporary files to /kaggle/temp/, but they won't be saved outside of the current session"
      ]
    },
    {
      "cell_type": "code",
      "source": [
        "from google.colab import drive\n",
        "drive.mount('/content/drive')"
      ],
      "metadata": {
        "colab": {
          "base_uri": "https://localhost:8080/"
        },
        "id": "fhUxH4u_TrLs",
        "outputId": "e1205e6e-bb1d-4640-c73d-854c9ff196dd"
      },
      "id": "fhUxH4u_TrLs",
      "execution_count": 1,
      "outputs": [
        {
          "output_type": "stream",
          "name": "stdout",
          "text": [
            "Mounted at /content/drive\n"
          ]
        }
      ]
    },
    {
      "cell_type": "code",
      "source": [
        "%cd /content/drive/MyDrive/6-Image-Similarity"
      ],
      "metadata": {
        "colab": {
          "base_uri": "https://localhost:8080/"
        },
        "id": "ITGlWmykT7Ho",
        "outputId": "e829fea2-c68c-429d-e3f2-1996fea896df"
      },
      "id": "ITGlWmykT7Ho",
      "execution_count": 2,
      "outputs": [
        {
          "output_type": "stream",
          "name": "stdout",
          "text": [
            "/content/drive/MyDrive/6-Image-Similarity\n"
          ]
        }
      ]
    },
    {
      "cell_type": "code",
      "execution_count": 5,
      "id": "1d6d39bf",
      "metadata": {
        "execution": {
          "iopub.execute_input": "2024-11-15T14:31:04.727651Z",
          "iopub.status.busy": "2024-11-15T14:31:04.726947Z",
          "iopub.status.idle": "2024-11-15T14:31:07.410535Z",
          "shell.execute_reply": "2024-11-15T14:31:07.409391Z"
        },
        "papermill": {
          "duration": 2.689775,
          "end_time": "2024-11-15T14:31:07.412919",
          "exception": false,
          "start_time": "2024-11-15T14:31:04.723144",
          "status": "completed"
        },
        "tags": [],
        "colab": {
          "base_uri": "https://localhost:8080/"
        },
        "id": "1d6d39bf",
        "outputId": "06f18c91-7aea-4c5d-ea66-a0d722fefd7b"
      },
      "outputs": [
        {
          "output_type": "stream",
          "name": "stdout",
          "text": [
            "Cloning into 'DELG-Search'...\n",
            "remote: Enumerating objects: 95, done.\u001b[K\n",
            "remote: Counting objects: 100% (95/95), done.\u001b[K\n",
            "remote: Compressing objects: 100% (67/67), done.\u001b[K\n",
            "remote: Total 95 (delta 33), reused 79 (delta 20), pack-reused 0 (from 0)\u001b[K\n",
            "Receiving objects: 100% (95/95), 45.73 KiB | 767.00 KiB/s, done.\n",
            "Resolving deltas: 100% (33/33), done.\n",
            "fatal: cannot exec '/content/drive/MyDrive/6-Image-Similarity/DELG-Search/.git/hooks/post-checkout': Permission denied\n"
          ]
        }
      ],
      "source": [
        "!git clone https://github.com/nate-q-136/DELG-Search.git"
      ]
    },
    {
      "cell_type": "code",
      "execution_count": 3,
      "id": "9d7a92ca",
      "metadata": {
        "execution": {
          "iopub.execute_input": "2024-11-15T14:31:07.421174Z",
          "iopub.status.busy": "2024-11-15T14:31:07.420837Z",
          "iopub.status.idle": "2024-11-15T14:31:07.426927Z",
          "shell.execute_reply": "2024-11-15T14:31:07.426122Z"
        },
        "papermill": {
          "duration": 0.012488,
          "end_time": "2024-11-15T14:31:07.428958",
          "exception": false,
          "start_time": "2024-11-15T14:31:07.416470",
          "status": "completed"
        },
        "tags": [],
        "colab": {
          "base_uri": "https://localhost:8080/"
        },
        "id": "9d7a92ca",
        "outputId": "c62acfa6-b259-48ee-8115-dcd7863f2a9b"
      },
      "outputs": [
        {
          "output_type": "stream",
          "name": "stdout",
          "text": [
            "/content/drive/MyDrive/6-Image-Similarity/DELG-Search\n"
          ]
        }
      ],
      "source": [
        "%cd DELG-Search"
      ]
    },
    {
      "cell_type": "code",
      "execution_count": 4,
      "id": "0ba9e3e3",
      "metadata": {
        "execution": {
          "iopub.execute_input": "2024-11-15T14:31:07.436385Z",
          "iopub.status.busy": "2024-11-15T14:31:07.436114Z",
          "iopub.status.idle": "2024-11-15T14:31:08.928103Z",
          "shell.execute_reply": "2024-11-15T14:31:08.927192Z"
        },
        "papermill": {
          "duration": 1.498091,
          "end_time": "2024-11-15T14:31:08.930287",
          "exception": false,
          "start_time": "2024-11-15T14:31:07.432196",
          "status": "completed"
        },
        "tags": [],
        "colab": {
          "base_uri": "https://localhost:8080/"
        },
        "id": "0ba9e3e3",
        "outputId": "54d44df6-9c86-424b-b068-ac124c494b98"
      },
      "outputs": [
        {
          "output_type": "stream",
          "name": "stdout",
          "text": [
            "^C\n"
          ]
        }
      ],
      "source": [
        "!git pull"
      ]
    },
    {
      "cell_type": "code",
      "source": [
        "!git checkout feat/preprocessing"
      ],
      "metadata": {
        "id": "r68xu6FyeOgX"
      },
      "id": "r68xu6FyeOgX",
      "execution_count": null,
      "outputs": []
    },
    {
      "cell_type": "code",
      "execution_count": 5,
      "id": "bde69923",
      "metadata": {
        "execution": {
          "iopub.execute_input": "2024-11-15T14:31:08.938665Z",
          "iopub.status.busy": "2024-11-15T14:31:08.938347Z",
          "iopub.status.idle": "2024-11-15T14:35:02.595313Z",
          "shell.execute_reply": "2024-11-15T14:35:02.594125Z"
        },
        "papermill": {
          "duration": 233.663982,
          "end_time": "2024-11-15T14:35:02.597871",
          "exception": false,
          "start_time": "2024-11-15T14:31:08.933889",
          "status": "completed"
        },
        "scrolled": true,
        "tags": [],
        "colab": {
          "base_uri": "https://localhost:8080/",
          "height": 1000
        },
        "id": "bde69923",
        "outputId": "29887d88-1a57-4866-9e64-82468e67756d"
      },
      "outputs": [
        {
          "output_type": "stream",
          "name": "stdout",
          "text": [
            "Collecting appnope==0.1.4 (from -r requirements.txt (line 1))\n",
            "  Downloading appnope-0.1.4-py2.py3-none-any.whl.metadata (908 bytes)\n",
            "Collecting asttokens==2.4.1 (from -r requirements.txt (line 2))\n",
            "  Downloading asttokens-2.4.1-py2.py3-none-any.whl.metadata (5.2 kB)\n",
            "Requirement already satisfied: beautifulsoup4==4.12.3 in /usr/local/lib/python3.10/dist-packages (from -r requirements.txt (line 3)) (4.12.3)\n",
            "Collecting bs4==0.0.2 (from -r requirements.txt (line 4))\n",
            "  Downloading bs4-0.0.2-py2.py3-none-any.whl.metadata (411 bytes)\n",
            "Requirement already satisfied: certifi==2024.8.30 in /usr/local/lib/python3.10/dist-packages (from -r requirements.txt (line 5)) (2024.8.30)\n",
            "Collecting charset-normalizer==3.3.2 (from -r requirements.txt (line 6))\n",
            "  Downloading charset_normalizer-3.3.2-cp310-cp310-manylinux_2_17_x86_64.manylinux2014_x86_64.whl.metadata (33 kB)\n",
            "Collecting comm==0.2.2 (from -r requirements.txt (line 7))\n",
            "  Downloading comm-0.2.2-py3-none-any.whl.metadata (3.7 kB)\n",
            "Collecting contourpy==1.3.0 (from -r requirements.txt (line 8))\n",
            "  Downloading contourpy-1.3.0-cp310-cp310-manylinux_2_17_x86_64.manylinux2014_x86_64.whl.metadata (5.4 kB)\n",
            "Requirement already satisfied: cycler==0.12.1 in /usr/local/lib/python3.10/dist-packages (from -r requirements.txt (line 9)) (0.12.1)\n",
            "Collecting debugpy==1.8.6 (from -r requirements.txt (line 10))\n",
            "  Downloading debugpy-1.8.6-cp310-cp310-manylinux_2_5_x86_64.manylinux1_x86_64.manylinux_2_17_x86_64.manylinux2014_x86_64.whl.metadata (1.1 kB)\n",
            "Collecting decorator==5.1.1 (from -r requirements.txt (line 11))\n",
            "  Downloading decorator-5.1.1-py3-none-any.whl.metadata (4.0 kB)\n",
            "Collecting et-xmlfile==1.1.0 (from -r requirements.txt (line 12))\n",
            "  Downloading et_xmlfile-1.1.0-py3-none-any.whl.metadata (1.8 kB)\n",
            "Requirement already satisfied: exceptiongroup==1.2.2 in /usr/local/lib/python3.10/dist-packages (from -r requirements.txt (line 13)) (1.2.2)\n",
            "Collecting executing==2.1.0 (from -r requirements.txt (line 14))\n",
            "  Downloading executing-2.1.0-py2.py3-none-any.whl.metadata (8.9 kB)\n",
            "Requirement already satisfied: filelock==3.16.1 in /usr/local/lib/python3.10/dist-packages (from -r requirements.txt (line 15)) (3.16.1)\n",
            "Requirement already satisfied: fonttools==4.54.1 in /usr/local/lib/python3.10/dist-packages (from -r requirements.txt (line 16)) (4.54.1)\n",
            "Collecting fsspec==2024.9.0 (from -r requirements.txt (line 17))\n",
            "  Downloading fsspec-2024.9.0-py3-none-any.whl.metadata (11 kB)\n",
            "Requirement already satisfied: gdown==5.2.0 in /usr/local/lib/python3.10/dist-packages (from -r requirements.txt (line 18)) (5.2.0)\n",
            "Requirement already satisfied: h5py==3.12.1 in /usr/local/lib/python3.10/dist-packages (from -r requirements.txt (line 19)) (3.12.1)\n",
            "Requirement already satisfied: idna==3.10 in /usr/local/lib/python3.10/dist-packages (from -r requirements.txt (line 20)) (3.10)\n",
            "Requirement already satisfied: imageio==2.36.0 in /usr/local/lib/python3.10/dist-packages (from -r requirements.txt (line 21)) (2.36.0)\n",
            "Collecting ipykernel==6.29.5 (from -r requirements.txt (line 22))\n",
            "  Downloading ipykernel-6.29.5-py3-none-any.whl.metadata (6.3 kB)\n",
            "Collecting ipython==8.28.0 (from -r requirements.txt (line 23))\n",
            "  Downloading ipython-8.28.0-py3-none-any.whl.metadata (5.0 kB)\n",
            "Collecting jedi==0.19.1 (from -r requirements.txt (line 24))\n",
            "  Downloading jedi-0.19.1-py2.py3-none-any.whl.metadata (22 kB)\n",
            "Requirement already satisfied: Jinja2==3.1.4 in /usr/local/lib/python3.10/dist-packages (from -r requirements.txt (line 25)) (3.1.4)\n",
            "Requirement already satisfied: joblib==1.4.2 in /usr/local/lib/python3.10/dist-packages (from -r requirements.txt (line 26)) (1.4.2)\n",
            "Collecting jupyter_client==8.6.3 (from -r requirements.txt (line 27))\n",
            "  Downloading jupyter_client-8.6.3-py3-none-any.whl.metadata (8.3 kB)\n",
            "Requirement already satisfied: jupyter_core==5.7.2 in /usr/local/lib/python3.10/dist-packages (from -r requirements.txt (line 28)) (5.7.2)\n",
            "Requirement already satisfied: kiwisolver==1.4.7 in /usr/local/lib/python3.10/dist-packages (from -r requirements.txt (line 29)) (1.4.7)\n",
            "Requirement already satisfied: lazy_loader==0.4 in /usr/local/lib/python3.10/dist-packages (from -r requirements.txt (line 30)) (0.4)\n",
            "Collecting MarkupSafe==3.0.1 (from -r requirements.txt (line 31))\n",
            "  Downloading MarkupSafe-3.0.1-cp310-cp310-manylinux_2_17_x86_64.manylinux2014_x86_64.whl.metadata (4.0 kB)\n",
            "Collecting matplotlib==3.9.2 (from -r requirements.txt (line 32))\n",
            "  Downloading matplotlib-3.9.2-cp310-cp310-manylinux_2_17_x86_64.manylinux2014_x86_64.whl.metadata (11 kB)\n",
            "Requirement already satisfied: matplotlib-inline==0.1.7 in /usr/local/lib/python3.10/dist-packages (from -r requirements.txt (line 33)) (0.1.7)\n",
            "Requirement already satisfied: mpmath==1.3.0 in /usr/local/lib/python3.10/dist-packages (from -r requirements.txt (line 34)) (1.3.0)\n",
            "Requirement already satisfied: nest-asyncio==1.6.0 in /usr/local/lib/python3.10/dist-packages (from -r requirements.txt (line 35)) (1.6.0)\n",
            "Collecting networkx==3.4.1 (from -r requirements.txt (line 36))\n",
            "  Downloading networkx-3.4.1-py3-none-any.whl.metadata (6.3 kB)\n",
            "Collecting numpy==1.24.3 (from -r requirements.txt (line 37))\n",
            "  Downloading numpy-1.24.3-cp310-cp310-manylinux_2_17_x86_64.manylinux2014_x86_64.whl.metadata (5.6 kB)\n",
            "Collecting opencv-python==4.8.0.76 (from -r requirements.txt (line 38))\n",
            "  Downloading opencv_python-4.8.0.76-cp37-abi3-manylinux_2_17_x86_64.manylinux2014_x86_64.whl.metadata (19 kB)\n",
            "Requirement already satisfied: openpyxl==3.1.5 in /usr/local/lib/python3.10/dist-packages (from -r requirements.txt (line 39)) (3.1.5)\n",
            "Collecting openslide-python==1.4.1 (from -r requirements.txt (line 40))\n",
            "  Downloading openslide_python-1.4.1-cp310-cp310-manylinux_2_5_x86_64.manylinux1_x86_64.whl.metadata (4.3 kB)\n",
            "Collecting packaging==24.1 (from -r requirements.txt (line 41))\n",
            "  Downloading packaging-24.1-py3-none-any.whl.metadata (3.2 kB)\n",
            "Collecting pandas==2.2.3 (from -r requirements.txt (line 42))\n",
            "  Downloading pandas-2.2.3-cp310-cp310-manylinux_2_17_x86_64.manylinux2014_x86_64.whl.metadata (89 kB)\n",
            "\u001b[2K     \u001b[90m━━━━━━━━━━━━━━━━━━━━━━━━━━━━━━━━━━━━━━━━\u001b[0m \u001b[32m89.9/89.9 kB\u001b[0m \u001b[31m8.4 MB/s\u001b[0m eta \u001b[36m0:00:00\u001b[0m\n",
            "\u001b[?25hRequirement already satisfied: parso==0.8.4 in /usr/local/lib/python3.10/dist-packages (from -r requirements.txt (line 43)) (0.8.4)\n",
            "Requirement already satisfied: pexpect==4.9.0 in /usr/local/lib/python3.10/dist-packages (from -r requirements.txt (line 44)) (4.9.0)\n",
            "Collecting pillow==10.4.0 (from -r requirements.txt (line 45))\n",
            "  Downloading pillow-10.4.0-cp310-cp310-manylinux_2_28_x86_64.whl.metadata (9.2 kB)\n",
            "Requirement already satisfied: platformdirs==4.3.6 in /usr/local/lib/python3.10/dist-packages (from -r requirements.txt (line 46)) (4.3.6)\n",
            "Requirement already satisfied: plotly==5.24.1 in /usr/local/lib/python3.10/dist-packages (from -r requirements.txt (line 47)) (5.24.1)\n",
            "Requirement already satisfied: prompt_toolkit==3.0.48 in /usr/local/lib/python3.10/dist-packages (from -r requirements.txt (line 48)) (3.0.48)\n",
            "Collecting psutil==6.0.0 (from -r requirements.txt (line 49))\n",
            "  Downloading psutil-6.0.0-cp36-abi3-manylinux_2_12_x86_64.manylinux2010_x86_64.manylinux_2_17_x86_64.manylinux2014_x86_64.whl.metadata (21 kB)\n",
            "Requirement already satisfied: ptyprocess==0.7.0 in /usr/local/lib/python3.10/dist-packages (from -r requirements.txt (line 50)) (0.7.0)\n",
            "Collecting pure_eval==0.2.3 (from -r requirements.txt (line 51))\n",
            "  Downloading pure_eval-0.2.3-py3-none-any.whl.metadata (6.3 kB)\n",
            "Collecting pydicom==3.0.1 (from -r requirements.txt (line 52))\n",
            "  Downloading pydicom-3.0.1-py3-none-any.whl.metadata (9.4 kB)\n",
            "Requirement already satisfied: Pygments==2.18.0 in /usr/local/lib/python3.10/dist-packages (from -r requirements.txt (line 53)) (2.18.0)\n",
            "Collecting pyparsing==3.1.4 (from -r requirements.txt (line 54))\n",
            "  Downloading pyparsing-3.1.4-py3-none-any.whl.metadata (5.1 kB)\n",
            "Requirement already satisfied: PySocks==1.7.1 in /usr/local/lib/python3.10/dist-packages (from -r requirements.txt (line 55)) (1.7.1)\n",
            "Collecting python-dateutil==2.9.0.post0 (from -r requirements.txt (line 56))\n",
            "  Downloading python_dateutil-2.9.0.post0-py2.py3-none-any.whl.metadata (8.4 kB)\n",
            "Requirement already satisfied: pytz==2024.2 in /usr/local/lib/python3.10/dist-packages (from -r requirements.txt (line 57)) (2024.2)\n",
            "Collecting pyzmq==26.2.0 (from -r requirements.txt (line 58))\n",
            "  Downloading pyzmq-26.2.0-cp310-cp310-manylinux_2_28_x86_64.whl.metadata (6.2 kB)\n",
            "Requirement already satisfied: requests==2.32.3 in /usr/local/lib/python3.10/dist-packages (from -r requirements.txt (line 59)) (2.32.3)\n",
            "Requirement already satisfied: scikit-image==0.24.0 in /usr/local/lib/python3.10/dist-packages (from -r requirements.txt (line 60)) (0.24.0)\n",
            "Requirement already satisfied: scikit-learn==1.5.2 in /usr/local/lib/python3.10/dist-packages (from -r requirements.txt (line 61)) (1.5.2)\n",
            "Collecting scipy==1.14.1 (from -r requirements.txt (line 62))\n",
            "  Downloading scipy-1.14.1-cp310-cp310-manylinux_2_17_x86_64.manylinux2014_x86_64.whl.metadata (60 kB)\n",
            "\u001b[2K     \u001b[90m━━━━━━━━━━━━━━━━━━━━━━━━━━━━━━━━━━━━━━━━\u001b[0m \u001b[32m60.8/60.8 kB\u001b[0m \u001b[31m5.5 MB/s\u001b[0m eta \u001b[36m0:00:00\u001b[0m\n",
            "\u001b[?25hRequirement already satisfied: six==1.16.0 in /usr/local/lib/python3.10/dist-packages (from -r requirements.txt (line 63)) (1.16.0)\n",
            "Requirement already satisfied: soupsieve==2.6 in /usr/local/lib/python3.10/dist-packages (from -r requirements.txt (line 64)) (2.6)\n",
            "Collecting stack-data==0.6.3 (from -r requirements.txt (line 65))\n",
            "  Downloading stack_data-0.6.3-py3-none-any.whl.metadata (18 kB)\n",
            "Collecting sympy==1.13.3 (from -r requirements.txt (line 66))\n",
            "  Downloading sympy-1.13.3-py3-none-any.whl.metadata (12 kB)\n",
            "Collecting tcia_utils==2.4.7 (from -r requirements.txt (line 67))\n",
            "  Downloading tcia_utils-2.4.7-py3-none-any.whl.metadata (2.1 kB)\n",
            "Requirement already satisfied: tenacity==9.0.0 in /usr/local/lib/python3.10/dist-packages (from -r requirements.txt (line 68)) (9.0.0)\n",
            "Requirement already satisfied: threadpoolctl==3.5.0 in /usr/local/lib/python3.10/dist-packages (from -r requirements.txt (line 69)) (3.5.0)\n",
            "Requirement already satisfied: tifffile==2024.9.20 in /usr/local/lib/python3.10/dist-packages (from -r requirements.txt (line 70)) (2024.9.20)\n",
            "Collecting torch==2.2.2 (from -r requirements.txt (line 71))\n",
            "  Downloading torch-2.2.2-cp310-cp310-manylinux1_x86_64.whl.metadata (26 kB)\n",
            "Collecting tornado==6.4.1 (from -r requirements.txt (line 72))\n",
            "  Downloading tornado-6.4.1-cp38-abi3-manylinux_2_5_x86_64.manylinux1_x86_64.manylinux_2_17_x86_64.manylinux2014_x86_64.whl.metadata (2.5 kB)\n",
            "Collecting tqdm==4.66.5 (from -r requirements.txt (line 73))\n",
            "  Downloading tqdm-4.66.5-py3-none-any.whl.metadata (57 kB)\n",
            "\u001b[2K     \u001b[90m━━━━━━━━━━━━━━━━━━━━━━━━━━━━━━━━━━━━━━━━\u001b[0m \u001b[32m57.6/57.6 kB\u001b[0m \u001b[31m4.6 MB/s\u001b[0m eta \u001b[36m0:00:00\u001b[0m\n",
            "\u001b[?25hCollecting traitlets==5.14.3 (from -r requirements.txt (line 74))\n",
            "  Downloading traitlets-5.14.3-py3-none-any.whl.metadata (10 kB)\n",
            "Requirement already satisfied: typing_extensions==4.12.2 in /usr/local/lib/python3.10/dist-packages (from -r requirements.txt (line 75)) (4.12.2)\n",
            "Requirement already satisfied: tzdata==2024.2 in /usr/local/lib/python3.10/dist-packages (from -r requirements.txt (line 76)) (2024.2)\n",
            "Collecting Unidecode==1.3.8 (from -r requirements.txt (line 77))\n",
            "  Downloading Unidecode-1.3.8-py3-none-any.whl.metadata (13 kB)\n",
            "Requirement already satisfied: urllib3==2.2.3 in /usr/local/lib/python3.10/dist-packages (from -r requirements.txt (line 78)) (2.2.3)\n",
            "Requirement already satisfied: wcwidth==0.2.13 in /usr/local/lib/python3.10/dist-packages (from -r requirements.txt (line 79)) (0.2.13)\n",
            "Collecting nvidia-cuda-nvrtc-cu12==12.1.105 (from torch==2.2.2->-r requirements.txt (line 71))\n",
            "  Downloading nvidia_cuda_nvrtc_cu12-12.1.105-py3-none-manylinux1_x86_64.whl.metadata (1.5 kB)\n",
            "Collecting nvidia-cuda-runtime-cu12==12.1.105 (from torch==2.2.2->-r requirements.txt (line 71))\n",
            "  Downloading nvidia_cuda_runtime_cu12-12.1.105-py3-none-manylinux1_x86_64.whl.metadata (1.5 kB)\n",
            "Collecting nvidia-cuda-cupti-cu12==12.1.105 (from torch==2.2.2->-r requirements.txt (line 71))\n",
            "  Downloading nvidia_cuda_cupti_cu12-12.1.105-py3-none-manylinux1_x86_64.whl.metadata (1.6 kB)\n",
            "Collecting nvidia-cudnn-cu12==8.9.2.26 (from torch==2.2.2->-r requirements.txt (line 71))\n",
            "  Downloading nvidia_cudnn_cu12-8.9.2.26-py3-none-manylinux1_x86_64.whl.metadata (1.6 kB)\n",
            "Collecting nvidia-cublas-cu12==12.1.3.1 (from torch==2.2.2->-r requirements.txt (line 71))\n",
            "  Downloading nvidia_cublas_cu12-12.1.3.1-py3-none-manylinux1_x86_64.whl.metadata (1.5 kB)\n",
            "Collecting nvidia-cufft-cu12==11.0.2.54 (from torch==2.2.2->-r requirements.txt (line 71))\n",
            "  Downloading nvidia_cufft_cu12-11.0.2.54-py3-none-manylinux1_x86_64.whl.metadata (1.5 kB)\n",
            "Collecting nvidia-curand-cu12==10.3.2.106 (from torch==2.2.2->-r requirements.txt (line 71))\n",
            "  Downloading nvidia_curand_cu12-10.3.2.106-py3-none-manylinux1_x86_64.whl.metadata (1.5 kB)\n",
            "Collecting nvidia-cusolver-cu12==11.4.5.107 (from torch==2.2.2->-r requirements.txt (line 71))\n",
            "  Downloading nvidia_cusolver_cu12-11.4.5.107-py3-none-manylinux1_x86_64.whl.metadata (1.6 kB)\n",
            "Collecting nvidia-cusparse-cu12==12.1.0.106 (from torch==2.2.2->-r requirements.txt (line 71))\n",
            "  Downloading nvidia_cusparse_cu12-12.1.0.106-py3-none-manylinux1_x86_64.whl.metadata (1.6 kB)\n",
            "Collecting nvidia-nccl-cu12==2.19.3 (from torch==2.2.2->-r requirements.txt (line 71))\n",
            "  Downloading nvidia_nccl_cu12-2.19.3-py3-none-manylinux1_x86_64.whl.metadata (1.8 kB)\n",
            "Collecting nvidia-nvtx-cu12==12.1.105 (from torch==2.2.2->-r requirements.txt (line 71))\n",
            "  Downloading nvidia_nvtx_cu12-12.1.105-py3-none-manylinux1_x86_64.whl.metadata (1.7 kB)\n",
            "Collecting triton==2.2.0 (from torch==2.2.2->-r requirements.txt (line 71))\n",
            "  Downloading triton-2.2.0-cp310-cp310-manylinux_2_17_x86_64.manylinux2014_x86_64.whl.metadata (1.4 kB)\n",
            "Requirement already satisfied: nvidia-nvjitlink-cu12 in /usr/local/lib/python3.10/dist-packages (from nvidia-cusolver-cu12==11.4.5.107->torch==2.2.2->-r requirements.txt (line 71)) (12.6.77)\n",
            "Downloading appnope-0.1.4-py2.py3-none-any.whl (4.3 kB)\n",
            "Downloading asttokens-2.4.1-py2.py3-none-any.whl (27 kB)\n",
            "Downloading bs4-0.0.2-py2.py3-none-any.whl (1.2 kB)\n",
            "Downloading charset_normalizer-3.3.2-cp310-cp310-manylinux_2_17_x86_64.manylinux2014_x86_64.whl (142 kB)\n",
            "\u001b[2K   \u001b[90m━━━━━━━━━━━━━━━━━━━━━━━━━━━━━━━━━━━━━━━━\u001b[0m \u001b[32m142.1/142.1 kB\u001b[0m \u001b[31m13.6 MB/s\u001b[0m eta \u001b[36m0:00:00\u001b[0m\n",
            "\u001b[?25hDownloading comm-0.2.2-py3-none-any.whl (7.2 kB)\n",
            "Downloading contourpy-1.3.0-cp310-cp310-manylinux_2_17_x86_64.manylinux2014_x86_64.whl (322 kB)\n",
            "\u001b[2K   \u001b[90m━━━━━━━━━━━━━━━━━━━━━━━━━━━━━━━━━━━━━━━━\u001b[0m \u001b[32m322.0/322.0 kB\u001b[0m \u001b[31m27.5 MB/s\u001b[0m eta \u001b[36m0:00:00\u001b[0m\n",
            "\u001b[?25hDownloading debugpy-1.8.6-cp310-cp310-manylinux_2_5_x86_64.manylinux1_x86_64.manylinux_2_17_x86_64.manylinux2014_x86_64.whl (3.5 MB)\n",
            "\u001b[2K   \u001b[90m━━━━━━━━━━━━━━━━━━━━━━━━━━━━━━━━━━━━━━━━\u001b[0m \u001b[32m3.5/3.5 MB\u001b[0m \u001b[31m15.9 MB/s\u001b[0m eta \u001b[36m0:00:00\u001b[0m\n",
            "\u001b[?25hDownloading decorator-5.1.1-py3-none-any.whl (9.1 kB)\n",
            "Downloading et_xmlfile-1.1.0-py3-none-any.whl (4.7 kB)\n",
            "Downloading executing-2.1.0-py2.py3-none-any.whl (25 kB)\n",
            "Downloading fsspec-2024.9.0-py3-none-any.whl (179 kB)\n",
            "\u001b[2K   \u001b[90m━━━━━━━━━━━━━━━━━━━━━━━━━━━━━━━━━━━━━━━━\u001b[0m \u001b[32m179.3/179.3 kB\u001b[0m \u001b[31m15.9 MB/s\u001b[0m eta \u001b[36m0:00:00\u001b[0m\n",
            "\u001b[?25hDownloading ipykernel-6.29.5-py3-none-any.whl (117 kB)\n",
            "\u001b[2K   \u001b[90m━━━━━━━━━━━━━━━━━━━━━━━━━━━━━━━━━━━━━━━━\u001b[0m \u001b[32m117.2/117.2 kB\u001b[0m \u001b[31m10.4 MB/s\u001b[0m eta \u001b[36m0:00:00\u001b[0m\n",
            "\u001b[?25hDownloading ipython-8.28.0-py3-none-any.whl (819 kB)\n",
            "\u001b[2K   \u001b[90m━━━━━━━━━━━━━━━━━━━━━━━━━━━━━━━━━━━━━━━━\u001b[0m \u001b[32m819.5/819.5 kB\u001b[0m \u001b[31m51.5 MB/s\u001b[0m eta \u001b[36m0:00:00\u001b[0m\n",
            "\u001b[?25hDownloading jedi-0.19.1-py2.py3-none-any.whl (1.6 MB)\n",
            "\u001b[2K   \u001b[90m━━━━━━━━━━━━━━━━━━━━━━━━━━━━━━━━━━━━━━━━\u001b[0m \u001b[32m1.6/1.6 MB\u001b[0m \u001b[31m71.7 MB/s\u001b[0m eta \u001b[36m0:00:00\u001b[0m\n",
            "\u001b[?25hDownloading jupyter_client-8.6.3-py3-none-any.whl (106 kB)\n",
            "\u001b[2K   \u001b[90m━━━━━━━━━━━━━━━━━━━━━━━━━━━━━━━━━━━━━━━━\u001b[0m \u001b[32m106.1/106.1 kB\u001b[0m \u001b[31m9.2 MB/s\u001b[0m eta \u001b[36m0:00:00\u001b[0m\n",
            "\u001b[?25hDownloading MarkupSafe-3.0.1-cp310-cp310-manylinux_2_17_x86_64.manylinux2014_x86_64.whl (20 kB)\n",
            "Downloading matplotlib-3.9.2-cp310-cp310-manylinux_2_17_x86_64.manylinux2014_x86_64.whl (8.3 MB)\n",
            "\u001b[2K   \u001b[90m━━━━━━━━━━━━━━━━━━━━━━━━━━━━━━━━━━━━━━━━\u001b[0m \u001b[32m8.3/8.3 MB\u001b[0m \u001b[31m110.1 MB/s\u001b[0m eta \u001b[36m0:00:00\u001b[0m\n",
            "\u001b[?25hDownloading networkx-3.4.1-py3-none-any.whl (1.7 MB)\n",
            "\u001b[2K   \u001b[90m━━━━━━━━━━━━━━━━━━━━━━━━━━━━━━━━━━━━━━━━\u001b[0m \u001b[32m1.7/1.7 MB\u001b[0m \u001b[31m38.4 MB/s\u001b[0m eta \u001b[36m0:00:00\u001b[0m\n",
            "\u001b[?25hDownloading numpy-1.24.3-cp310-cp310-manylinux_2_17_x86_64.manylinux2014_x86_64.whl (17.3 MB)\n",
            "\u001b[2K   \u001b[90m━━━━━━━━━━━━━━━━━━━━━━━━━━━━━━━━━━━━━━━━\u001b[0m \u001b[32m17.3/17.3 MB\u001b[0m \u001b[31m97.3 MB/s\u001b[0m eta \u001b[36m0:00:00\u001b[0m\n",
            "\u001b[?25hDownloading opencv_python-4.8.0.76-cp37-abi3-manylinux_2_17_x86_64.manylinux2014_x86_64.whl (61.7 MB)\n",
            "\u001b[2K   \u001b[90m━━━━━━━━━━━━━━━━━━━━━━━━━━━━━━━━━━━━━━━━\u001b[0m \u001b[32m61.7/61.7 MB\u001b[0m \u001b[31m11.6 MB/s\u001b[0m eta \u001b[36m0:00:00\u001b[0m\n",
            "\u001b[?25hDownloading openslide_python-1.4.1-cp310-cp310-manylinux_2_5_x86_64.manylinux1_x86_64.whl (36 kB)\n",
            "Downloading packaging-24.1-py3-none-any.whl (53 kB)\n",
            "\u001b[2K   \u001b[90m━━━━━━━━━━━━━━━━━━━━━━━━━━━━━━━━━━━━━━━━\u001b[0m \u001b[32m54.0/54.0 kB\u001b[0m \u001b[31m4.4 MB/s\u001b[0m eta \u001b[36m0:00:00\u001b[0m\n",
            "\u001b[?25hDownloading pandas-2.2.3-cp310-cp310-manylinux_2_17_x86_64.manylinux2014_x86_64.whl (13.1 MB)\n",
            "\u001b[2K   \u001b[90m━━━━━━━━━━━━━━━━━━━━━━━━━━━━━━━━━━━━━━━━\u001b[0m \u001b[32m13.1/13.1 MB\u001b[0m \u001b[31m113.0 MB/s\u001b[0m eta \u001b[36m0:00:00\u001b[0m\n",
            "\u001b[?25hDownloading pillow-10.4.0-cp310-cp310-manylinux_2_28_x86_64.whl (4.5 MB)\n",
            "\u001b[2K   \u001b[90m━━━━━━━━━━━━━━━━━━━━━━━━━━━━━━━━━━━━━━━━\u001b[0m \u001b[32m4.5/4.5 MB\u001b[0m \u001b[31m103.2 MB/s\u001b[0m eta \u001b[36m0:00:00\u001b[0m\n",
            "\u001b[?25hDownloading psutil-6.0.0-cp36-abi3-manylinux_2_12_x86_64.manylinux2010_x86_64.manylinux_2_17_x86_64.manylinux2014_x86_64.whl (290 kB)\n",
            "\u001b[2K   \u001b[90m━━━━━━━━━━━━━━━━━━━━━━━━━━━━━━━━━━━━━━━━\u001b[0m \u001b[32m290.5/290.5 kB\u001b[0m \u001b[31m21.7 MB/s\u001b[0m eta \u001b[36m0:00:00\u001b[0m\n",
            "\u001b[?25hDownloading pure_eval-0.2.3-py3-none-any.whl (11 kB)\n",
            "Downloading pydicom-3.0.1-py3-none-any.whl (2.4 MB)\n",
            "\u001b[2K   \u001b[90m━━━━━━━━━━━━━━━━━━━━━━━━━━━━━━━━━━━━━━━━\u001b[0m \u001b[32m2.4/2.4 MB\u001b[0m \u001b[31m81.2 MB/s\u001b[0m eta \u001b[36m0:00:00\u001b[0m\n",
            "\u001b[?25hDownloading pyparsing-3.1.4-py3-none-any.whl (104 kB)\n",
            "\u001b[2K   \u001b[90m━━━━━━━━━━━━━━━━━━━━━━━━━━━━━━━━━━━━━━━━\u001b[0m \u001b[32m104.1/104.1 kB\u001b[0m \u001b[31m9.5 MB/s\u001b[0m eta \u001b[36m0:00:00\u001b[0m\n",
            "\u001b[?25hDownloading python_dateutil-2.9.0.post0-py2.py3-none-any.whl (229 kB)\n",
            "\u001b[2K   \u001b[90m━━━━━━━━━━━━━━━━━━━━━━━━━━━━━━━━━━━━━━━━\u001b[0m \u001b[32m229.9/229.9 kB\u001b[0m \u001b[31m19.2 MB/s\u001b[0m eta \u001b[36m0:00:00\u001b[0m\n",
            "\u001b[?25hDownloading pyzmq-26.2.0-cp310-cp310-manylinux_2_28_x86_64.whl (868 kB)\n",
            "\u001b[2K   \u001b[90m━━━━━━━━━━━━━━━━━━━━━━━━━━━━━━━━━━━━━━━━\u001b[0m \u001b[32m868.8/868.8 kB\u001b[0m \u001b[31m51.9 MB/s\u001b[0m eta \u001b[36m0:00:00\u001b[0m\n",
            "\u001b[?25hDownloading scipy-1.14.1-cp310-cp310-manylinux_2_17_x86_64.manylinux2014_x86_64.whl (41.2 MB)\n",
            "\u001b[2K   \u001b[90m━━━━━━━━━━━━━━━━━━━━━━━━━━━━━━━━━━━━━━━━\u001b[0m \u001b[32m41.2/41.2 MB\u001b[0m \u001b[31m16.4 MB/s\u001b[0m eta \u001b[36m0:00:00\u001b[0m\n",
            "\u001b[?25hDownloading stack_data-0.6.3-py3-none-any.whl (24 kB)\n",
            "Downloading sympy-1.13.3-py3-none-any.whl (6.2 MB)\n",
            "\u001b[2K   \u001b[90m━━━━━━━━━━━━━━━━━━━━━━━━━━━━━━━━━━━━━━━━\u001b[0m \u001b[32m6.2/6.2 MB\u001b[0m \u001b[31m94.7 MB/s\u001b[0m eta \u001b[36m0:00:00\u001b[0m\n",
            "\u001b[?25hDownloading tcia_utils-2.4.7-py3-none-any.whl (36 kB)\n",
            "Downloading torch-2.2.2-cp310-cp310-manylinux1_x86_64.whl (755.5 MB)\n",
            "\u001b[2K   \u001b[90m━━━━━━━━━━━━━━━━━━━━━━━━━━━━━━━━━━━━━━━━\u001b[0m \u001b[32m755.5/755.5 MB\u001b[0m \u001b[31m1.2 MB/s\u001b[0m eta \u001b[36m0:00:00\u001b[0m\n",
            "\u001b[?25hDownloading tornado-6.4.1-cp38-abi3-manylinux_2_5_x86_64.manylinux1_x86_64.manylinux_2_17_x86_64.manylinux2014_x86_64.whl (436 kB)\n",
            "\u001b[2K   \u001b[90m━━━━━━━━━━━━━━━━━━━━━━━━━━━━━━━━━━━━━━━━\u001b[0m \u001b[32m436.8/436.8 kB\u001b[0m \u001b[31m29.1 MB/s\u001b[0m eta \u001b[36m0:00:00\u001b[0m\n",
            "\u001b[?25hDownloading tqdm-4.66.5-py3-none-any.whl (78 kB)\n",
            "\u001b[2K   \u001b[90m━━━━━━━━━━━━━━━━━━━━━━━━━━━━━━━━━━━━━━━━\u001b[0m \u001b[32m78.4/78.4 kB\u001b[0m \u001b[31m6.6 MB/s\u001b[0m eta \u001b[36m0:00:00\u001b[0m\n",
            "\u001b[?25hDownloading traitlets-5.14.3-py3-none-any.whl (85 kB)\n",
            "\u001b[2K   \u001b[90m━━━━━━━━━━━━━━━━━━━━━━━━━━━━━━━━━━━━━━━━\u001b[0m \u001b[32m85.4/85.4 kB\u001b[0m \u001b[31m7.3 MB/s\u001b[0m eta \u001b[36m0:00:00\u001b[0m\n",
            "\u001b[?25hDownloading Unidecode-1.3.8-py3-none-any.whl (235 kB)\n",
            "\u001b[2K   \u001b[90m━━━━━━━━━━━━━━━━━━━━━━━━━━━━━━━━━━━━━━━━\u001b[0m \u001b[32m235.5/235.5 kB\u001b[0m \u001b[31m17.9 MB/s\u001b[0m eta \u001b[36m0:00:00\u001b[0m\n",
            "\u001b[?25hDownloading nvidia_cublas_cu12-12.1.3.1-py3-none-manylinux1_x86_64.whl (410.6 MB)\n",
            "\u001b[2K   \u001b[90m━━━━━━━━━━━━━━━━━━━━━━━━━━━━━━━━━━━━━━━━\u001b[0m \u001b[32m410.6/410.6 MB\u001b[0m \u001b[31m1.2 MB/s\u001b[0m eta \u001b[36m0:00:00\u001b[0m\n",
            "\u001b[?25hDownloading nvidia_cuda_cupti_cu12-12.1.105-py3-none-manylinux1_x86_64.whl (14.1 MB)\n",
            "\u001b[2K   \u001b[90m━━━━━━━━━━━━━━━━━━━━━━━━━━━━━━━━━━━━━━━━\u001b[0m \u001b[32m14.1/14.1 MB\u001b[0m \u001b[31m92.6 MB/s\u001b[0m eta \u001b[36m0:00:00\u001b[0m\n",
            "\u001b[?25hDownloading nvidia_cuda_nvrtc_cu12-12.1.105-py3-none-manylinux1_x86_64.whl (23.7 MB)\n",
            "\u001b[2K   \u001b[90m━━━━━━━━━━━━━━━━━━━━━━━━━━━━━━━━━━━━━━━━\u001b[0m \u001b[32m23.7/23.7 MB\u001b[0m \u001b[31m86.4 MB/s\u001b[0m eta \u001b[36m0:00:00\u001b[0m\n",
            "\u001b[?25hDownloading nvidia_cuda_runtime_cu12-12.1.105-py3-none-manylinux1_x86_64.whl (823 kB)\n",
            "\u001b[2K   \u001b[90m━━━━━━━━━━━━━━━━━━━━━━━━━━━━━━━━━━━━━━━━\u001b[0m \u001b[32m823.6/823.6 kB\u001b[0m \u001b[31m48.7 MB/s\u001b[0m eta \u001b[36m0:00:00\u001b[0m\n",
            "\u001b[?25hDownloading nvidia_cudnn_cu12-8.9.2.26-py3-none-manylinux1_x86_64.whl (731.7 MB)\n",
            "\u001b[2K   \u001b[90m━━━━━━━━━━━━━━━━━━━━━━━━━━━━━━━━━━━━━━━━\u001b[0m \u001b[32m731.7/731.7 MB\u001b[0m \u001b[31m2.8 MB/s\u001b[0m eta \u001b[36m0:00:00\u001b[0m\n",
            "\u001b[?25hDownloading nvidia_cufft_cu12-11.0.2.54-py3-none-manylinux1_x86_64.whl (121.6 MB)\n",
            "\u001b[2K   \u001b[90m━━━━━━━━━━━━━━━━━━━━━━━━━━━━━━━━━━━━━━━━\u001b[0m \u001b[32m121.6/121.6 MB\u001b[0m \u001b[31m7.7 MB/s\u001b[0m eta \u001b[36m0:00:00\u001b[0m\n",
            "\u001b[?25hDownloading nvidia_curand_cu12-10.3.2.106-py3-none-manylinux1_x86_64.whl (56.5 MB)\n",
            "\u001b[2K   \u001b[90m━━━━━━━━━━━━━━━━━━━━━━━━━━━━━━━━━━━━━━━━\u001b[0m \u001b[32m56.5/56.5 MB\u001b[0m \u001b[31m16.9 MB/s\u001b[0m eta \u001b[36m0:00:00\u001b[0m\n",
            "\u001b[?25hDownloading nvidia_cusolver_cu12-11.4.5.107-py3-none-manylinux1_x86_64.whl (124.2 MB)\n",
            "\u001b[2K   \u001b[90m━━━━━━━━━━━━━━━━━━━━━━━━━━━━━━━━━━━━━━━━\u001b[0m \u001b[32m124.2/124.2 MB\u001b[0m \u001b[31m10.5 MB/s\u001b[0m eta \u001b[36m0:00:00\u001b[0m\n",
            "\u001b[?25hDownloading nvidia_cusparse_cu12-12.1.0.106-py3-none-manylinux1_x86_64.whl (196.0 MB)\n",
            "\u001b[2K   \u001b[90m━━━━━━━━━━━━━━━━━━━━━━━━━━━━━━━━━━━━━━━━\u001b[0m \u001b[32m196.0/196.0 MB\u001b[0m \u001b[31m6.1 MB/s\u001b[0m eta \u001b[36m0:00:00\u001b[0m\n",
            "\u001b[?25hDownloading nvidia_nccl_cu12-2.19.3-py3-none-manylinux1_x86_64.whl (166.0 MB)\n",
            "\u001b[2K   \u001b[90m━━━━━━━━━━━━━━━━━━━━━━━━━━━━━━━━━━━━━━━━\u001b[0m \u001b[32m166.0/166.0 MB\u001b[0m \u001b[31m7.0 MB/s\u001b[0m eta \u001b[36m0:00:00\u001b[0m\n",
            "\u001b[?25hDownloading nvidia_nvtx_cu12-12.1.105-py3-none-manylinux1_x86_64.whl (99 kB)\n",
            "\u001b[2K   \u001b[90m━━━━━━━━━━━━━━━━━━━━━━━━━━━━━━━━━━━━━━━━\u001b[0m \u001b[32m99.1/99.1 kB\u001b[0m \u001b[31m7.6 MB/s\u001b[0m eta \u001b[36m0:00:00\u001b[0m\n",
            "\u001b[?25hDownloading triton-2.2.0-cp310-cp310-manylinux_2_17_x86_64.manylinux2014_x86_64.whl (167.9 MB)\n",
            "\u001b[2K   \u001b[90m━━━━━━━━━━━━━━━━━━━━━━━━━━━━━━━━━━━━━━━━\u001b[0m \u001b[32m167.9/167.9 MB\u001b[0m \u001b[31m6.7 MB/s\u001b[0m eta \u001b[36m0:00:00\u001b[0m\n",
            "\u001b[?25hInstalling collected packages: pure_eval, Unidecode, triton, traitlets, tqdm, tornado, sympy, pyzmq, python-dateutil, pyparsing, pydicom, psutil, pillow, packaging, nvidia-nvtx-cu12, nvidia-nccl-cu12, nvidia-cusparse-cu12, nvidia-curand-cu12, nvidia-cufft-cu12, nvidia-cuda-runtime-cu12, nvidia-cuda-nvrtc-cu12, nvidia-cuda-cupti-cu12, nvidia-cublas-cu12, numpy, networkx, MarkupSafe, jedi, fsspec, executing, et-xmlfile, decorator, debugpy, charset-normalizer, asttokens, appnope, stack-data, scipy, pandas, openslide-python, opencv-python, nvidia-cusolver-cu12, nvidia-cudnn-cu12, contourpy, comm, bs4, torch, tcia_utils, matplotlib, jupyter_client, ipython, ipykernel\n",
            "  Attempting uninstall: traitlets\n",
            "    Found existing installation: traitlets 5.7.1\n",
            "    Uninstalling traitlets-5.7.1:\n",
            "      Successfully uninstalled traitlets-5.7.1\n",
            "  Attempting uninstall: tqdm\n",
            "    Found existing installation: tqdm 4.66.6\n",
            "    Uninstalling tqdm-4.66.6:\n",
            "      Successfully uninstalled tqdm-4.66.6\n",
            "  Attempting uninstall: tornado\n",
            "    Found existing installation: tornado 6.3.3\n",
            "    Uninstalling tornado-6.3.3:\n",
            "      Successfully uninstalled tornado-6.3.3\n",
            "  Attempting uninstall: sympy\n",
            "    Found existing installation: sympy 1.13.1\n",
            "    Uninstalling sympy-1.13.1:\n",
            "      Successfully uninstalled sympy-1.13.1\n",
            "  Attempting uninstall: pyzmq\n",
            "    Found existing installation: pyzmq 24.0.1\n",
            "    Uninstalling pyzmq-24.0.1:\n",
            "      Successfully uninstalled pyzmq-24.0.1\n",
            "  Attempting uninstall: python-dateutil\n",
            "    Found existing installation: python-dateutil 2.8.2\n",
            "    Uninstalling python-dateutil-2.8.2:\n",
            "      Successfully uninstalled python-dateutil-2.8.2\n",
            "  Attempting uninstall: pyparsing\n",
            "    Found existing installation: pyparsing 3.2.0\n",
            "    Uninstalling pyparsing-3.2.0:\n",
            "      Successfully uninstalled pyparsing-3.2.0\n",
            "  Attempting uninstall: psutil\n",
            "    Found existing installation: psutil 5.9.5\n",
            "    Uninstalling psutil-5.9.5:\n",
            "      Successfully uninstalled psutil-5.9.5\n",
            "  Attempting uninstall: pillow\n",
            "    Found existing installation: pillow 11.0.0\n",
            "    Uninstalling pillow-11.0.0:\n",
            "      Successfully uninstalled pillow-11.0.0\n",
            "  Attempting uninstall: packaging\n",
            "    Found existing installation: packaging 24.2\n",
            "    Uninstalling packaging-24.2:\n",
            "      Successfully uninstalled packaging-24.2\n",
            "  Attempting uninstall: nvidia-nccl-cu12\n",
            "    Found existing installation: nvidia-nccl-cu12 2.23.4\n",
            "    Uninstalling nvidia-nccl-cu12-2.23.4:\n",
            "      Successfully uninstalled nvidia-nccl-cu12-2.23.4\n",
            "  Attempting uninstall: nvidia-cusparse-cu12\n",
            "    Found existing installation: nvidia-cusparse-cu12 12.5.4.2\n",
            "    Uninstalling nvidia-cusparse-cu12-12.5.4.2:\n",
            "      Successfully uninstalled nvidia-cusparse-cu12-12.5.4.2\n",
            "  Attempting uninstall: nvidia-curand-cu12\n",
            "    Found existing installation: nvidia-curand-cu12 10.3.7.77\n",
            "    Uninstalling nvidia-curand-cu12-10.3.7.77:\n",
            "      Successfully uninstalled nvidia-curand-cu12-10.3.7.77\n",
            "  Attempting uninstall: nvidia-cufft-cu12\n",
            "    Found existing installation: nvidia-cufft-cu12 11.3.0.4\n",
            "    Uninstalling nvidia-cufft-cu12-11.3.0.4:\n",
            "      Successfully uninstalled nvidia-cufft-cu12-11.3.0.4\n",
            "  Attempting uninstall: nvidia-cuda-runtime-cu12\n",
            "    Found existing installation: nvidia-cuda-runtime-cu12 12.6.77\n",
            "    Uninstalling nvidia-cuda-runtime-cu12-12.6.77:\n",
            "      Successfully uninstalled nvidia-cuda-runtime-cu12-12.6.77\n",
            "  Attempting uninstall: nvidia-cuda-cupti-cu12\n",
            "    Found existing installation: nvidia-cuda-cupti-cu12 12.6.80\n",
            "    Uninstalling nvidia-cuda-cupti-cu12-12.6.80:\n",
            "      Successfully uninstalled nvidia-cuda-cupti-cu12-12.6.80\n",
            "  Attempting uninstall: nvidia-cublas-cu12\n",
            "    Found existing installation: nvidia-cublas-cu12 12.6.3.3\n",
            "    Uninstalling nvidia-cublas-cu12-12.6.3.3:\n",
            "      Successfully uninstalled nvidia-cublas-cu12-12.6.3.3\n",
            "  Attempting uninstall: numpy\n",
            "    Found existing installation: numpy 1.26.4\n",
            "    Uninstalling numpy-1.26.4:\n",
            "      Successfully uninstalled numpy-1.26.4\n",
            "  Attempting uninstall: networkx\n",
            "    Found existing installation: networkx 3.4.2\n",
            "    Uninstalling networkx-3.4.2:\n",
            "      Successfully uninstalled networkx-3.4.2\n",
            "  Attempting uninstall: MarkupSafe\n",
            "    Found existing installation: MarkupSafe 3.0.2\n",
            "    Uninstalling MarkupSafe-3.0.2:\n",
            "      Successfully uninstalled MarkupSafe-3.0.2\n",
            "  Attempting uninstall: fsspec\n",
            "    Found existing installation: fsspec 2024.10.0\n",
            "    Uninstalling fsspec-2024.10.0:\n",
            "      Successfully uninstalled fsspec-2024.10.0\n",
            "  Attempting uninstall: et-xmlfile\n",
            "    Found existing installation: et_xmlfile 2.0.0\n",
            "    Uninstalling et_xmlfile-2.0.0:\n",
            "      Successfully uninstalled et_xmlfile-2.0.0\n",
            "  Attempting uninstall: decorator\n",
            "    Found existing installation: decorator 4.4.2\n",
            "    Uninstalling decorator-4.4.2:\n",
            "      Successfully uninstalled decorator-4.4.2\n",
            "  Attempting uninstall: debugpy\n",
            "    Found existing installation: debugpy 1.8.0\n",
            "    Uninstalling debugpy-1.8.0:\n",
            "      Successfully uninstalled debugpy-1.8.0\n",
            "  Attempting uninstall: charset-normalizer\n",
            "    Found existing installation: charset-normalizer 3.4.0\n",
            "    Uninstalling charset-normalizer-3.4.0:\n",
            "      Successfully uninstalled charset-normalizer-3.4.0\n",
            "  Attempting uninstall: scipy\n",
            "    Found existing installation: scipy 1.13.1\n",
            "    Uninstalling scipy-1.13.1:\n",
            "      Successfully uninstalled scipy-1.13.1\n",
            "  Attempting uninstall: pandas\n",
            "    Found existing installation: pandas 2.2.2\n",
            "    Uninstalling pandas-2.2.2:\n",
            "      Successfully uninstalled pandas-2.2.2\n",
            "  Attempting uninstall: opencv-python\n",
            "    Found existing installation: opencv-python 4.10.0.84\n",
            "    Uninstalling opencv-python-4.10.0.84:\n",
            "      Successfully uninstalled opencv-python-4.10.0.84\n",
            "  Attempting uninstall: nvidia-cusolver-cu12\n",
            "    Found existing installation: nvidia-cusolver-cu12 11.7.1.2\n",
            "    Uninstalling nvidia-cusolver-cu12-11.7.1.2:\n",
            "      Successfully uninstalled nvidia-cusolver-cu12-11.7.1.2\n",
            "  Attempting uninstall: nvidia-cudnn-cu12\n",
            "    Found existing installation: nvidia-cudnn-cu12 9.5.1.17\n",
            "    Uninstalling nvidia-cudnn-cu12-9.5.1.17:\n",
            "      Successfully uninstalled nvidia-cudnn-cu12-9.5.1.17\n",
            "  Attempting uninstall: contourpy\n",
            "    Found existing installation: contourpy 1.3.1\n",
            "    Uninstalling contourpy-1.3.1:\n",
            "      Successfully uninstalled contourpy-1.3.1\n",
            "  Attempting uninstall: torch\n",
            "    Found existing installation: torch 2.5.1+cu121\n",
            "    Uninstalling torch-2.5.1+cu121:\n",
            "      Successfully uninstalled torch-2.5.1+cu121\n",
            "  Attempting uninstall: matplotlib\n",
            "    Found existing installation: matplotlib 3.8.0\n",
            "    Uninstalling matplotlib-3.8.0:\n",
            "      Successfully uninstalled matplotlib-3.8.0\n",
            "  Attempting uninstall: jupyter_client\n",
            "    Found existing installation: jupyter-client 6.1.12\n",
            "    Uninstalling jupyter-client-6.1.12:\n",
            "      Successfully uninstalled jupyter-client-6.1.12\n",
            "  Attempting uninstall: ipython\n",
            "    Found existing installation: ipython 7.34.0\n",
            "    Uninstalling ipython-7.34.0:\n",
            "      Successfully uninstalled ipython-7.34.0\n",
            "  Attempting uninstall: ipykernel\n",
            "    Found existing installation: ipykernel 5.5.6\n",
            "    Uninstalling ipykernel-5.5.6:\n",
            "      Successfully uninstalled ipykernel-5.5.6\n",
            "\u001b[31mERROR: pip's dependency resolver does not currently take into account all the packages that are installed. This behaviour is the source of the following dependency conflicts.\n",
            "albucore 0.0.19 requires numpy>=1.24.4, but you have numpy 1.24.3 which is incompatible.\n",
            "albumentations 1.4.20 requires numpy>=1.24.4, but you have numpy 1.24.3 which is incompatible.\n",
            "cudf-cu12 24.10.1 requires pandas<2.2.3dev0,>=2.0, but you have pandas 2.2.3 which is incompatible.\n",
            "gcsfs 2024.10.0 requires fsspec==2024.10.0, but you have fsspec 2024.9.0 which is incompatible.\n",
            "gensim 4.3.3 requires scipy<1.14.0,>=1.7.0, but you have scipy 1.14.1 which is incompatible.\n",
            "google-colab 1.0.0 requires ipykernel==5.5.6, but you have ipykernel 6.29.5 which is incompatible.\n",
            "google-colab 1.0.0 requires ipython==7.34.0, but you have ipython 8.28.0 which is incompatible.\n",
            "google-colab 1.0.0 requires pandas==2.2.2, but you have pandas 2.2.3 which is incompatible.\n",
            "google-colab 1.0.0 requires tornado==6.3.3, but you have tornado 6.4.1 which is incompatible.\n",
            "moviepy 1.0.3 requires decorator<5.0,>=4.0.2, but you have decorator 5.1.1 which is incompatible.\n",
            "notebook 6.5.5 requires jupyter-client<8,>=5.3.4, but you have jupyter-client 8.6.3 which is incompatible.\n",
            "notebook 6.5.5 requires pyzmq<25,>=17, but you have pyzmq 26.2.0 which is incompatible.\n",
            "torchaudio 2.5.1+cu121 requires torch==2.5.1, but you have torch 2.2.2 which is incompatible.\n",
            "torchvision 0.20.1+cu121 requires torch==2.5.1, but you have torch 2.2.2 which is incompatible.\u001b[0m\u001b[31m\n",
            "\u001b[0mSuccessfully installed MarkupSafe-3.0.1 Unidecode-1.3.8 appnope-0.1.4 asttokens-2.4.1 bs4-0.0.2 charset-normalizer-3.3.2 comm-0.2.2 contourpy-1.3.0 debugpy-1.8.6 decorator-5.1.1 et-xmlfile-1.1.0 executing-2.1.0 fsspec-2024.9.0 ipykernel-6.29.5 ipython-8.28.0 jedi-0.19.1 jupyter_client-8.6.3 matplotlib-3.9.2 networkx-3.4.1 numpy-1.24.3 nvidia-cublas-cu12-12.1.3.1 nvidia-cuda-cupti-cu12-12.1.105 nvidia-cuda-nvrtc-cu12-12.1.105 nvidia-cuda-runtime-cu12-12.1.105 nvidia-cudnn-cu12-8.9.2.26 nvidia-cufft-cu12-11.0.2.54 nvidia-curand-cu12-10.3.2.106 nvidia-cusolver-cu12-11.4.5.107 nvidia-cusparse-cu12-12.1.0.106 nvidia-nccl-cu12-2.19.3 nvidia-nvtx-cu12-12.1.105 opencv-python-4.8.0.76 openslide-python-1.4.1 packaging-24.1 pandas-2.2.3 pillow-10.4.0 psutil-6.0.0 pure_eval-0.2.3 pydicom-3.0.1 pyparsing-3.1.4 python-dateutil-2.9.0.post0 pyzmq-26.2.0 scipy-1.14.1 stack-data-0.6.3 sympy-1.13.3 tcia_utils-2.4.7 torch-2.2.2 tornado-6.4.1 tqdm-4.66.5 traitlets-5.14.3 triton-2.2.0\n"
          ]
        },
        {
          "output_type": "display_data",
          "data": {
            "application/vnd.colab-display-data+json": {
              "pip_warning": {
                "packages": [
                  "IPython",
                  "PIL",
                  "dateutil",
                  "debugpy",
                  "decorator",
                  "numpy",
                  "psutil",
                  "tornado"
                ]
              },
              "id": "11daec72fbde4fdd876d5a7c4bec03f5"
            }
          },
          "metadata": {}
        }
      ],
      "source": [
        "!pip install -r requirements.txt"
      ]
    },
    {
      "cell_type": "code",
      "source": [
        "!chmod +x scripts/download_dataset.sh\n"
      ],
      "metadata": {
        "id": "dFnurtAnVffz"
      },
      "id": "dFnurtAnVffz",
      "execution_count": 6,
      "outputs": []
    },
    {
      "cell_type": "code",
      "execution_count": 13,
      "id": "67c632e7",
      "metadata": {
        "execution": {
          "iopub.execute_input": "2024-11-15T14:35:02.784459Z",
          "iopub.status.busy": "2024-11-15T14:35:02.783586Z",
          "iopub.status.idle": "2024-11-15T14:35:33.877926Z",
          "shell.execute_reply": "2024-11-15T14:35:33.876761Z"
        },
        "papermill": {
          "duration": 31.189329,
          "end_time": "2024-11-15T14:35:33.880213",
          "exception": false,
          "start_time": "2024-11-15T14:35:02.690884",
          "status": "completed"
        },
        "scrolled": true,
        "tags": [],
        "colab": {
          "base_uri": "https://localhost:8080/"
        },
        "id": "67c632e7",
        "outputId": "db14bed4-3c3a-49ea-c897-f037d6804093"
      },
      "outputs": [
        {
          "output_type": "stream",
          "name": "stdout",
          "text": [
            "Downloading...\n",
            "From (original): https://drive.google.com/uc?id=19LmhPiHjpPWzorUqy_Nhk_tn8eCli8tY\n",
            "From (redirected): https://drive.google.com/uc?id=19LmhPiHjpPWzorUqy_Nhk_tn8eCli8tY&confirm=t&uuid=27ad0847-0d03-4cba-aaba-c6878bd8afcb\n",
            "To: /content/drive/MyDrive/6-Image-Similarity/DELG-Search/TCGA-jp2.zip\n",
            "100% 618M/618M [00:11<00:00, 55.0MB/s]\n",
            "Archive:  TCGA-jp2.zip\n",
            "   creating: TCGA-jp2/TCGA-GBM/\n",
            "   creating: TCGA-jp2/TCGA-KICH/\n",
            "   creating: TCGA-jp2/TCGA-KIRC/\n",
            "   creating: TCGA-jp2/TCGA-LGG/\n",
            "   creating: TCGA-jp2/TCGA-LUAD/\n",
            "   creating: TCGA-jp2/TCGA-OV/\n",
            "   creating: TCGA-jp2/TCGA-READ/\n",
            " extracting: TCGA-jp2/TCGA-GBM/TCGA-06-0125-01A-01-BS1.jp2  \n",
            " extracting: TCGA-jp2/TCGA-GBM/TCGA-06-0126-01A-01-BS1.jp2  \n",
            " extracting: TCGA-jp2/TCGA-GBM/TCGA-06-0127-01A-01-BS1.jp2  \n",
            " extracting: TCGA-jp2/TCGA-GBM/TCGA-06-0127-01Z-00-DX2.jp2  \n",
            " extracting: TCGA-jp2/TCGA-GBM/TCGA-06-0129-01Z-00-DX1.jp2  \n",
            " extracting: TCGA-jp2/TCGA-GBM/TCGA-06-0129-01Z-00-DX2.jp2  \n",
            " extracting: TCGA-jp2/TCGA-GBM/TCGA-06-0145-01Z-00-DX1.jp2  \n",
            " extracting: TCGA-jp2/TCGA-GBM/TCGA-06-0147-01A-01-TS1.jp2  \n",
            " extracting: TCGA-jp2/TCGA-GBM/TCGA-06-0147-01Z-00-DX1.jp2  \n",
            " extracting: TCGA-jp2/TCGA-GBM/TCGA-06-0148-01A-01-TS1.jp2  \n",
            " extracting: TCGA-jp2/TCGA-GBM/TCGA-06-0148-01Z-00-DX2.jp2  \n",
            " extracting: TCGA-jp2/TCGA-GBM/TCGA-06-0189-01A-01-BS1.jp2  \n",
            " extracting: TCGA-jp2/TCGA-GBM/TCGA-06-0211-01A-01-TS1.jp2  \n",
            " extracting: TCGA-jp2/TCGA-GBM/TCGA-06-0211-01Z-00-DX2.jp2  \n",
            " extracting: TCGA-jp2/TCGA-GBM/TCGA-06-6391-01A-01-BS1.jp2  \n",
            " extracting: TCGA-jp2/TCGA-GBM/TCGA-12-0615-01A-01-BS1.jp2  \n",
            " extracting: TCGA-jp2/TCGA-GBM/TCGA-12-0615-01A-01-TS1.jp2  \n",
            " extracting: TCGA-jp2/TCGA-GBM/TCGA-14-1454-01A-01-TS1.jp2  \n",
            " extracting: TCGA-jp2/TCGA-GBM/TCGA-14-1454-01Z-00-DX3.jp2  \n",
            " extracting: TCGA-jp2/TCGA-GBM/TCGA-14-3476-01B-01-TS1.jp2  \n",
            " extracting: TCGA-jp2/TCGA-GBM/TCGA-15-1449-01A-01-BS1.jp2  \n",
            " extracting: TCGA-jp2/TCGA-GBM/TCGA-15-1449-01A-01-TS1.jp2  \n",
            "  inflating: TCGA-jp2/TCGA-KICH/TCGA-KL-8339-11A-01-TS1.jp2  \n",
            " extracting: TCGA-jp2/TCGA-KICH/TCGA-KN-8425-11A-01-TS1.jp2  \n",
            " extracting: TCGA-jp2/TCGA-KICH/TCGA-KN-8430-11A-01-TS1.jp2  \n",
            "  inflating: TCGA-jp2/TCGA-KICH/TCGA-KO-8411-01A-01-BS1.jp2  \n",
            " extracting: TCGA-jp2/TCGA-KICH/TCGA-NP-A5B3-01Z-00-DX1.jp2  \n",
            " extracting: TCGA-jp2/TCGA-KICH/TCGA-NP-A5B3-11A-01-TS1.jp2  \n",
            " extracting: TCGA-jp2/TCGA-KICH/TCGA-NP-A5GZ-01Z-00-DX1.jp2  \n",
            " extracting: TCGA-jp2/TCGA-KICH/TCGA-NP-A5H1-01A-01-TS1.jp2  \n",
            " extracting: TCGA-jp2/TCGA-KICH/TCGA-NP-A5H1-01Z-00-DX1.jp2  \n",
            " extracting: TCGA-jp2/TCGA-KICH/TCGA-NP-A5H6-01A-01-TS1.jp2  \n",
            " extracting: TCGA-jp2/TCGA-KICH/TCGA-NP-A5H6-01Z-00-DX1.jp2  \n",
            " extracting: TCGA-jp2/TCGA-KICH/TCGA-NP-A5H7-01Z-00-DX1.jp2  \n",
            " extracting: TCGA-jp2/TCGA-KICH/TCGA-UW-A72H-01A-01-TS1.jp2  \n",
            " extracting: TCGA-jp2/TCGA-KICH/TCGA-UW-A72S-01A-01-TS1.jp2  \n",
            " extracting: TCGA-jp2/TCGA-KIRC/TCGA-A3-3362-01A-01-BS1.jp2  \n",
            " extracting: TCGA-jp2/TCGA-KIRC/TCGA-A3-3362-01A-01-TS1.jp2  \n",
            " extracting: TCGA-jp2/TCGA-KIRC/TCGA-A3-3362-01A-02-BS2.jp2  \n",
            " extracting: TCGA-jp2/TCGA-KIRC/TCGA-A3-3382-01A-01-BS1.jp2  \n",
            " extracting: TCGA-jp2/TCGA-KIRC/TCGA-AK-3426-01A-01-BS1.jp2  \n",
            " extracting: TCGA-jp2/TCGA-KIRC/TCGA-AK-3426-01A-01-TS1.jp2  \n",
            " extracting: TCGA-jp2/TCGA-KIRC/TCGA-AK-3426-01A-02-BS2.jp2  \n",
            " extracting: TCGA-jp2/TCGA-KIRC/TCGA-B0-4707-11A-01-BS1.jp2  \n",
            " extracting: TCGA-jp2/TCGA-KIRC/TCGA-B0-5108-11A-01-TS1.jp2  \n",
            " extracting: TCGA-jp2/TCGA-KIRC/TCGA-B4-5834-01A-01-BS1.jp2  \n",
            " extracting: TCGA-jp2/TCGA-KIRC/TCGA-BP-4347-01A-01-BS1.jp2  \n",
            " extracting: TCGA-jp2/TCGA-KIRC/TCGA-BP-4347-11A-01-TS1.jp2  \n",
            " extracting: TCGA-jp2/TCGA-KIRC/TCGA-BP-5173-01A-01-BS1.jp2  \n",
            " extracting: TCGA-jp2/TCGA-KIRC/TCGA-BP-5173-01A-01-TS1.jp2  \n",
            " extracting: TCGA-jp2/TCGA-KIRC/TCGA-BP-5173-11A-01-TS1.jp2  \n",
            " extracting: TCGA-jp2/TCGA-KIRC/TCGA-BP-5180-01A-01-BS1.jp2  \n",
            " extracting: TCGA-jp2/TCGA-KIRC/TCGA-BP-5180-01A-01-TS1.jp2  \n",
            " extracting: TCGA-jp2/TCGA-KIRC/TCGA-BP-5180-11A-01-TS1.jp2  \n",
            " extracting: TCGA-jp2/TCGA-KIRC/TCGA-BP-5195-01A-01-BS1.jp2  \n",
            " extracting: TCGA-jp2/TCGA-KIRC/TCGA-BP-5195-11A-01-TS1.jp2  \n",
            " extracting: TCGA-jp2/TCGA-KIRC/TCGA-CJ-4871-01A-01-BS1.jp2  \n",
            " extracting: TCGA-jp2/TCGA-KIRC/TCGA-CJ-4887-01A-01-BS1.jp2  \n",
            " extracting: TCGA-jp2/TCGA-KIRC/TCGA-CJ-4887-01A-01-TS1.jp2  \n",
            " extracting: TCGA-jp2/TCGA-KIRC/TCGA-CJ-4887-11A-01-TS1.jp2  \n",
            " extracting: TCGA-jp2/TCGA-KIRC/TCGA-CJ-5683-01A-01-BS1.jp2  \n",
            " extracting: TCGA-jp2/TCGA-KIRC/TCGA-CJ-5683-11A-01-TS1.jp2  \n",
            " extracting: TCGA-jp2/TCGA-KIRC/TCGA-CW-5584-11A-01-TS1.jp2  \n",
            " extracting: TCGA-jp2/TCGA-KIRC/TCGA-CZ-4854-11A-01-BS1.jp2  \n",
            " extracting: TCGA-jp2/TCGA-KIRC/TCGA-CZ-4854-11A-01-TS1.jp2  \n",
            " extracting: TCGA-jp2/TCGA-LGG/TCGA-CS-4944-01A-01-BS1.jp2  \n",
            " extracting: TCGA-jp2/TCGA-LGG/TCGA-CS-4944-01A-01-TS1.jp2  \n",
            " extracting: TCGA-jp2/TCGA-LGG/TCGA-DU-7007-01A-01-BS1.jp2  \n",
            " extracting: TCGA-jp2/TCGA-LGG/TCGA-DU-8162-01A-01-BS1.jp2  \n",
            " extracting: TCGA-jp2/TCGA-LGG/TCGA-DU-A76R-01Z-00-DX1.jp2  \n",
            " extracting: TCGA-jp2/TCGA-LGG/TCGA-E1-5302-01A-01-TS1.jp2  \n",
            " extracting: TCGA-jp2/TCGA-LGG/TCGA-S9-A7R2-01Z-00-DX1.jp2  \n",
            " extracting: TCGA-jp2/TCGA-LUAD/TCGA-38-4625-01A-01-TS1.jp2  \n",
            " extracting: TCGA-jp2/TCGA-LUAD/TCGA-38-4625-11A-01-BS1.jp2  \n",
            " extracting: TCGA-jp2/TCGA-LUAD/TCGA-38-4625-11A-01-TS1.jp2  \n",
            " extracting: TCGA-jp2/TCGA-LUAD/TCGA-38-4630-11A-01-TS1.jp2  \n",
            " extracting: TCGA-jp2/TCGA-LUAD/TCGA-44-2661-01A-01-TS1.jp2  \n",
            " extracting: TCGA-jp2/TCGA-LUAD/TCGA-44-5644-11A-01-TS1.jp2  \n",
            " extracting: TCGA-jp2/TCGA-LUAD/TCGA-49-6744-01A-01-BS1.jp2  \n",
            " extracting: TCGA-jp2/TCGA-LUAD/TCGA-50-5931-01A-01-BS1.jp2  \n",
            " extracting: TCGA-jp2/TCGA-LUAD/TCGA-50-6592-01A-01-BS1.jp2  \n",
            " extracting: TCGA-jp2/TCGA-LUAD/TCGA-55-1594-01A-01-BS1.jp2  \n",
            " extracting: TCGA-jp2/TCGA-LUAD/TCGA-55-1594-11A-01-TS1.jp2  \n",
            " extracting: TCGA-jp2/TCGA-LUAD/TCGA-55-1596-01A-01-BS1.jp2  \n",
            " extracting: TCGA-jp2/TCGA-LUAD/TCGA-55-6986-01A-01-TS1.jp2  \n",
            " extracting: TCGA-jp2/TCGA-LUAD/TCGA-55-7911-11A-01-TS1.jp2  \n",
            " extracting: TCGA-jp2/TCGA-LUAD/TCGA-55-8089-01Z-00-DX1.jp2  \n",
            " extracting: TCGA-jp2/TCGA-LUAD/TCGA-55-8091-01Z-00-DX1.jp2  \n",
            " extracting: TCGA-jp2/TCGA-LUAD/TCGA-55-8615-01Z-00-DX1.jp2  \n",
            " extracting: TCGA-jp2/TCGA-LUAD/TCGA-55-8615-11A-01-TS1.jp2  \n",
            " extracting: TCGA-jp2/TCGA-LUAD/TCGA-55-8619-11A-01-TS1.jp2  \n",
            " extracting: TCGA-jp2/TCGA-LUAD/TCGA-55-A48Y-01A-01-TS1.jp2  \n",
            " extracting: TCGA-jp2/TCGA-LUAD/TCGA-67-3771-01A-01-BS1.jp2  \n",
            " extracting: TCGA-jp2/TCGA-LUAD/TCGA-69-7763-01A-01-BS1.jp2  \n",
            " extracting: TCGA-jp2/TCGA-LUAD/TCGA-69-7763-01A-01-TS1.jp2  \n",
            " extracting: TCGA-jp2/TCGA-LUAD/TCGA-75-5125-01A-01-BS1.jp2  \n",
            " extracting: TCGA-jp2/TCGA-LUAD/TCGA-75-5146-01A-01-BS1.jp2  \n",
            " extracting: TCGA-jp2/TCGA-LUAD/TCGA-75-5146-01A-01-TS1.jp2  \n",
            " extracting: TCGA-jp2/TCGA-LUAD/TCGA-78-7166-01A-01-TS1.jp2  \n",
            " extracting: TCGA-jp2/TCGA-LUAD/TCGA-78-8640-11A-01-TS1.jp2  \n",
            " extracting: TCGA-jp2/TCGA-LUAD/TCGA-78-8662-01A-01-BS1.jp2  \n",
            " extracting: TCGA-jp2/TCGA-LUAD/TCGA-86-7954-01A-01-BS1.jp2  \n",
            " extracting: TCGA-jp2/TCGA-LUAD/TCGA-97-8179-01A-01-TS1.jp2  \n",
            "  inflating: TCGA-jp2/TCGA-LUAD/TCGA-J2-A4AD-01A-01-TSA.jp2  \n",
            " extracting: TCGA-jp2/TCGA-OV/TCGA-04-1347-01A-01-BS1.jp2  \n",
            " extracting: TCGA-jp2/TCGA-OV/TCGA-04-1350-01A-01-BS1.jp2  \n",
            " extracting: TCGA-jp2/TCGA-OV/TCGA-04-1351-01A-01-BS1.jp2  \n",
            " extracting: TCGA-jp2/TCGA-OV/TCGA-04-1351-01A-01-TS1.jp2  \n",
            " extracting: TCGA-jp2/TCGA-OV/TCGA-04-1516-01A-01-TS1.jp2  \n",
            " extracting: TCGA-jp2/TCGA-OV/TCGA-04-1525-01A-01-BS1.jp2  \n",
            " extracting: TCGA-jp2/TCGA-OV/TCGA-04-1525-01A-01-TS1.jp2  \n",
            " extracting: TCGA-jp2/TCGA-OV/TCGA-04-1652-01A-01-BS1.jp2  \n",
            " extracting: TCGA-jp2/TCGA-OV/TCGA-04-1652-01A-01-TS1.jp2  \n",
            " extracting: TCGA-jp2/TCGA-OV/TCGA-09-0366-01A-01-BS1.jp2  \n",
            " extracting: TCGA-jp2/TCGA-OV/TCGA-09-0366-01A-01-TS1.jp2  \n",
            " extracting: TCGA-jp2/TCGA-OV/TCGA-09-1659-01B-01-TS1.jp2  \n",
            " extracting: TCGA-jp2/TCGA-OV/TCGA-09-2055-01B-01-TS1.jp2  \n",
            " extracting: TCGA-jp2/TCGA-OV/TCGA-13-0761-01A-01-TS1.jp2  \n",
            " extracting: TCGA-jp2/TCGA-OV/TCGA-13-0766-01A-01-BS1.jp2  \n",
            " extracting: TCGA-jp2/TCGA-OV/TCGA-13-0914-01A-01-BS1.jp2  \n",
            " extracting: TCGA-jp2/TCGA-OV/TCGA-13-0922-01A-01-TS1.jp2  \n",
            " extracting: TCGA-jp2/TCGA-OV/TCGA-13-1506-01A-01-BS1.jp2  \n",
            " extracting: TCGA-jp2/TCGA-OV/TCGA-13-1819-01A-01-BS1.jp2  \n",
            " extracting: TCGA-jp2/TCGA-OV/TCGA-20-1686-01A-01-BS1.jp2  \n",
            " extracting: TCGA-jp2/TCGA-OV/TCGA-20-1686-01A-01-TS1.jp2  \n",
            " extracting: TCGA-jp2/TCGA-OV/TCGA-23-2072-01A-01-BS1.jp2  \n",
            " extracting: TCGA-jp2/TCGA-OV/TCGA-23-2072-01A-01-TS1.jp2  \n",
            " extracting: TCGA-jp2/TCGA-OV/TCGA-24-1104-01A-01-BS1.jp2  \n",
            " extracting: TCGA-jp2/TCGA-OV/TCGA-24-1416-01A-01-BS1.jp2  \n",
            " extracting: TCGA-jp2/TCGA-OV/TCGA-24-1928-01A-01-BS1.jp2  \n",
            " extracting: TCGA-jp2/TCGA-OV/TCGA-24-1928-01A-01-TS1.jp2  \n",
            " extracting: TCGA-jp2/TCGA-OV/TCGA-24-2280-01A-01-TS1.jp2  \n",
            " extracting: TCGA-jp2/TCGA-OV/TCGA-24-2293-01A-01-BS1.jp2  \n",
            " extracting: TCGA-jp2/TCGA-OV/TCGA-24-2293-01A-01-TS1.jp2  \n",
            " extracting: TCGA-jp2/TCGA-OV/TCGA-25-1320-01A-01-TS1.jp2  \n",
            " extracting: TCGA-jp2/TCGA-OV/TCGA-25-1628-01A-01-TS1.jp2  \n",
            " extracting: TCGA-jp2/TCGA-OV/TCGA-25-1635-01A-01-BS1.jp2  \n",
            " extracting: TCGA-jp2/TCGA-OV/TCGA-25-1635-01A-01-TS1.jp2  \n",
            " extracting: TCGA-jp2/TCGA-OV/TCGA-25-1870-01A-01-BS1.jp2  \n",
            " extracting: TCGA-jp2/TCGA-OV/TCGA-25-1878-01A-01-BS1.jp2  \n",
            " extracting: TCGA-jp2/TCGA-OV/TCGA-25-2396-01A-01-BS1.jp2  \n",
            " extracting: TCGA-jp2/TCGA-OV/TCGA-25-2409-01A-01-TS1.jp2  \n",
            " extracting: TCGA-jp2/TCGA-OV/TCGA-29-1691-01A-01-BS1.jp2  \n",
            " extracting: TCGA-jp2/TCGA-OV/TCGA-29-1699-01A-01-BS1.jp2  \n",
            " extracting: TCGA-jp2/TCGA-OV/TCGA-29-1707-02A-01-TS1.jp2  \n",
            " extracting: TCGA-jp2/TCGA-OV/TCGA-29-1769-01A-01-BS1.jp2  \n",
            " extracting: TCGA-jp2/TCGA-OV/TCGA-29-2414-01A-01-BS1.jp2  \n",
            " extracting: TCGA-jp2/TCGA-OV/TCGA-29-2414-01A-02-BS2.jp2  \n",
            " extracting: TCGA-jp2/TCGA-OV/TCGA-29-2414-02A-01-BS1.jp2  \n",
            " extracting: TCGA-jp2/TCGA-OV/TCGA-29-2435-01A-01-TS1.jp2  \n",
            " extracting: TCGA-jp2/TCGA-OV/TCGA-30-1714-01A-02-BS2.jp2  \n",
            " extracting: TCGA-jp2/TCGA-OV/TCGA-31-1951-01A-01-TS1.jp2  \n",
            "  inflating: TCGA-jp2/TCGA-OV/TCGA-36-2544-01A-01-TS1.jp2  \n",
            " extracting: TCGA-jp2/TCGA-OV/TCGA-36-2548-01A-01-BS1.jp2  \n",
            " extracting: TCGA-jp2/TCGA-OV/TCGA-42-2587-01A-01-TS1.jp2  \n",
            " extracting: TCGA-jp2/TCGA-OV/TCGA-42-2588-01A-01-TS1.jp2  \n",
            " extracting: TCGA-jp2/TCGA-OV/TCGA-42-2591-01A-01-BS1.jp2  \n",
            " extracting: TCGA-jp2/TCGA-OV/TCGA-42-2593-01A-01-TS1.jp2  \n",
            " extracting: TCGA-jp2/TCGA-OV/TCGA-57-1586-01A-02-BS2.jp2  \n",
            " extracting: TCGA-jp2/TCGA-OV/TCGA-57-1586-01Z-00-DX1.jp2  \n",
            " extracting: TCGA-jp2/TCGA-OV/TCGA-61-1721-11A-01-TS1.jp2  \n",
            " extracting: TCGA-jp2/TCGA-OV/TCGA-61-1728-01A-01-BS1.jp2  \n",
            " extracting: TCGA-jp2/TCGA-OV/TCGA-61-1736-01B-01-TS1.jp2  \n",
            " extracting: TCGA-jp2/TCGA-OV/TCGA-61-1743-11A-01-TS1.jp2  \n",
            " extracting: TCGA-jp2/TCGA-OV/TCGA-61-1899-01A-01-TS1.jp2  \n",
            " extracting: TCGA-jp2/TCGA-OV/TCGA-61-1899-11A-01-BS1.jp2  \n",
            " extracting: TCGA-jp2/TCGA-OV/TCGA-61-1899-11A-01-TS1.jp2  \n",
            " extracting: TCGA-jp2/TCGA-OV/TCGA-61-1900-01A-01-BS1.jp2  \n",
            " extracting: TCGA-jp2/TCGA-OV/TCGA-61-1903-01A-01-BS1.jp2  \n",
            " extracting: TCGA-jp2/TCGA-OV/TCGA-61-1903-01A-01-TS1.jp2  \n",
            " extracting: TCGA-jp2/TCGA-OV/TCGA-61-1903-11A-01-BS1.jp2  \n",
            " extracting: TCGA-jp2/TCGA-OV/TCGA-61-1903-11A-01-TS1.jp2  \n",
            " extracting: TCGA-jp2/TCGA-OV/TCGA-61-1916-01A-01-TS1.jp2  \n",
            " extracting: TCGA-jp2/TCGA-OV/TCGA-61-2018-01A-01-BS1.jp2  \n",
            " extracting: TCGA-jp2/TCGA-OV/TCGA-61-2018-11A-01-TS1.jp2  \n",
            " extracting: TCGA-jp2/TCGA-READ/TCGA-AF-2690-01A-02-BS2.jp2  \n",
            " extracting: TCGA-jp2/TCGA-READ/TCGA-AF-2692-01A-01-BS1.jp2  \n",
            " extracting: TCGA-jp2/TCGA-READ/TCGA-AF-2692-01A-01-TS1.jp2  \n",
            " extracting: TCGA-jp2/TCGA-READ/TCGA-AF-2692-11A-01-TS1.jp2  \n",
            " extracting: TCGA-jp2/TCGA-READ/TCGA-AF-3913-01A-01-BS1.jp2  \n",
            " extracting: TCGA-jp2/TCGA-READ/TCGA-AF-3914-01A-01-TS1.jp2  \n",
            " extracting: TCGA-jp2/TCGA-READ/TCGA-AF-3914-11A-01-BS1.jp2  \n",
            " extracting: TCGA-jp2/TCGA-READ/TCGA-AG-3587-01A-01-BS1.jp2  \n",
            " extracting: TCGA-jp2/TCGA-READ/TCGA-AG-3587-01A-01-TS1.jp2  \n",
            "  inflating: TCGA-jp2/TCGA-READ/TCGA-AG-3591-01Z-00-DX1.jp2  \n",
            " extracting: TCGA-jp2/TCGA-READ/TCGA-AG-3609-01A-01-BS1.jp2  \n",
            " extracting: TCGA-jp2/TCGA-READ/TCGA-AG-3612-01A-01-BS1.jp2  \n",
            " extracting: TCGA-jp2/TCGA-READ/TCGA-AG-3612-01A-01-TS1.jp2  \n",
            " extracting: TCGA-jp2/TCGA-READ/TCGA-AG-3728-01A-01-TS1.jp2  \n",
            " extracting: TCGA-jp2/TCGA-READ/TCGA-AG-3890-01A-01-TS1.jp2  \n",
            " extracting: TCGA-jp2/TCGA-READ/TCGA-AG-3906-01A-01-BS1.jp2  \n",
            " extracting: TCGA-jp2/TCGA-READ/TCGA-AG-3906-01A-01-TS1.jp2  \n",
            " extracting: TCGA-jp2/TCGA-READ/TCGA-AG-4009-01A-01-BS1.jp2  \n",
            " extracting: TCGA-jp2/TCGA-READ/TCGA-AG-4009-01A-01-TS1.jp2  \n",
            "  inflating: TCGA-jp2/TCGA-READ/TCGA-AG-4009-01Z-00-DX1.jp2  \n",
            " extracting: TCGA-jp2/TCGA-READ/TCGA-AG-A01N-01A-01-BS1.jp2  \n",
            "  inflating: TCGA-jp2/TCGA-READ/TCGA-AG-A026-01A-03-BS3.jp2  \n",
            " extracting: TCGA-jp2/TCGA-READ/TCGA-AG-A02X-01Z-00-DX1.jp2  \n",
            "  inflating: TCGA-jp2/TCGA-READ/TCGA-AG-A036-11A-01-BS1.jp2  \n",
            " extracting: TCGA-jp2/TCGA-READ/TCGA-BP-4334-01A-01-BS1.jp2  \n",
            " extracting: TCGA-jp2/TCGA-READ/TCGA-CI-6620-01A-01-TS1.jp2  \n",
            " extracting: TCGA-jp2/TCGA-READ/TCGA-EI-6506-01A-01-TS1.jp2  \n",
            " extracting: TCGA-jp2/TCGA-READ/TCGA-G5-6233-01A-01-BS1.jp2  \n",
            " extracting: TCGA-jp2/TCGA-READ/TCGA-G5-6235-01A-01-BS1.jp2  \n",
            " extracting: TCGA-jp2/TCGA-READ/TCGA-G5-6235-01A-01-TS1.jp2  \n",
            " extracting: TCGA-jp2/TCGA-READ/TCGA-G5-6572-01A-01-BS1.jp2  \n",
            " extracting: TCGA-jp2/TCGA-READ/TCGA-G5-6572-01A-01-TS1.jp2  \n",
            " extracting: TCGA-jp2/TCGA-READ/TCGA-G5-6641-01A-01-TS1.jp2  \n"
          ]
        }
      ],
      "source": [
        "!scripts/download_dataset.sh"
      ]
    },
    {
      "cell_type": "code",
      "source": [
        "!pip install openslide-bin"
      ],
      "metadata": {
        "colab": {
          "base_uri": "https://localhost:8080/"
        },
        "id": "ql1s5SEZYYa9",
        "outputId": "e2ce7fbb-c499-40b3-cf08-34da0d692cf5"
      },
      "id": "ql1s5SEZYYa9",
      "execution_count": 8,
      "outputs": [
        {
          "output_type": "stream",
          "name": "stdout",
          "text": [
            "Collecting openslide-bin\n",
            "  Downloading openslide_bin-4.0.0.6-py3-none-manylinux_2_28_x86_64.whl.metadata (4.4 kB)\n",
            "Downloading openslide_bin-4.0.0.6-py3-none-manylinux_2_28_x86_64.whl (4.3 MB)\n",
            "\u001b[?25l   \u001b[90m━━━━━━━━━━━━━━━━━━━━━━━━━━━━━━━━━━━━━━━━\u001b[0m \u001b[32m0.0/4.3 MB\u001b[0m \u001b[31m?\u001b[0m eta \u001b[36m-:--:--\u001b[0m\r\u001b[2K   \u001b[91m━━━━━━━━━━━━━━━━━━━━━━━━━━━━━━━━━━\u001b[0m\u001b[90m╺\u001b[0m\u001b[90m━━━━━\u001b[0m \u001b[32m3.7/4.3 MB\u001b[0m \u001b[31m109.4 MB/s\u001b[0m eta \u001b[36m0:00:01\u001b[0m\r\u001b[2K   \u001b[90m━━━━━━━━━━━━━━━━━━━━━━━━━━━━━━━━━━━━━━━━\u001b[0m \u001b[32m4.3/4.3 MB\u001b[0m \u001b[31m69.7 MB/s\u001b[0m eta \u001b[36m0:00:00\u001b[0m\n",
            "\u001b[?25hInstalling collected packages: openslide-bin\n",
            "Successfully installed openslide-bin-4.0.0.6\n"
          ]
        }
      ]
    },
    {
      "cell_type": "code",
      "source": [
        "!python3 pipeline_preprocessing.py --source_dir TCGA-jp2  --save_dir RESULT_PATCHES_DIRECTORY --upload_drive --stage \"patches\"\n"
      ],
      "metadata": {
        "colab": {
          "base_uri": "https://localhost:8080/"
        },
        "id": "LfE8xLSYV_se",
        "outputId": "75d2a055-3094-472d-ced7-46deca4a18a0"
      },
      "id": "LfE8xLSYV_se",
      "execution_count": 9,
      "outputs": [
        {
          "output_type": "stream",
          "name": "stdout",
          "text": [
            "source:  TCGA-jp2/TCGA-READ\n",
            "patch_save_dir:  RESULT_PATCHES_DIRECTORY/TCGA-READ/patches\n",
            "mask_save_dir:  RESULT_PATCHES_DIRECTORY/TCGA-READ/masks\n",
            "stitch_save_dir:  RESULT_PATCHES_DIRECTORY/TCGA-READ/stitches\n",
            "source : TCGA-jp2/TCGA-READ\n",
            "save_dir : RESULT_PATCHES_DIRECTORY/TCGA-READ\n",
            "patch_save_dir : RESULT_PATCHES_DIRECTORY/TCGA-READ/patches\n",
            "mask_save_dir : RESULT_PATCHES_DIRECTORY/TCGA-READ/masks\n",
            "stitch_save_dir : RESULT_PATCHES_DIRECTORY/TCGA-READ/stitches\n",
            "\n",
            "\n",
            "progress: 0.00, 0/4\n",
            "processing TCGA-AG-3728-01A-01-TS1.jp2\n",
            "Number of contours found:  839\n",
            "Number of foreground contours:  304\n",
            "Number of filtered contours:  1\n",
            "Creating patches for:  TCGA-AG-3728-01A-01-TS1 ...\n",
            "Total number of contours to process:  1\n",
            "Bounding Box: 1006 81 3460 4233\n",
            "Contour Area: 5866226.5\n",
            "Extracted 108 coordinates\n",
            "start stitching TCGA-AG-3728-01A-01-TS1\n",
            "original size: 6000 x 4484\n",
            "downscaled size for stiching: 6000 x 4484\n",
            "number of patches: 108\n",
            "patch size: 256x256 patch level: 0\n",
            "ref patch size: (256, 256)x(256, 256)\n",
            "downscaled patch size: 256x256\n",
            "progress: 0/108 stitched\n",
            "progress: 11/108 stitched\n",
            "progress: 22/108 stitched\n",
            "progress: 33/108 stitched\n",
            "progress: 44/108 stitched\n",
            "progress: 55/108 stitched\n",
            "progress: 66/108 stitched\n",
            "progress: 77/108 stitched\n",
            "progress: 88/108 stitched\n",
            "progress: 99/108 stitched\n",
            "segmentation took 6.767416000366211 seconds\n",
            "patching took 0.09351634979248047 seconds\n",
            "stitching took 0.32538437843322754 seconds\n",
            "\n",
            "\n",
            "progress: 0.25, 1/4\n",
            "processing TCGA-AG-3890-01A-01-TS1.jp2\n",
            "Number of contours found:  940\n",
            "Number of foreground contours:  126\n",
            "Number of filtered contours:  1\n",
            "Creating patches for:  TCGA-AG-3890-01A-01-TS1 ...\n",
            "Total number of contours to process:  1\n",
            "Bounding Box: 2716 1552 3001 2258\n",
            "Contour Area: 5301190.5\n",
            "Extracted 93 coordinates\n",
            "start stitching TCGA-AG-3890-01A-01-TS1\n",
            "original size: 6000 x 4262\n",
            "downscaled size for stiching: 6000 x 4262\n",
            "number of patches: 93\n",
            "patch size: 256x256 patch level: 0\n",
            "ref patch size: (256, 256)x(256, 256)\n",
            "downscaled patch size: 256x256\n",
            "progress: 0/93 stitched\n",
            "progress: 10/93 stitched\n",
            "progress: 20/93 stitched\n",
            "progress: 30/93 stitched\n",
            "progress: 40/93 stitched\n",
            "progress: 50/93 stitched\n",
            "progress: 60/93 stitched\n",
            "progress: 70/93 stitched\n",
            "progress: 80/93 stitched\n",
            "progress: 90/93 stitched\n",
            "segmentation took 5.402265310287476 seconds\n",
            "patching took 0.12396812438964844 seconds\n",
            "stitching took 0.3315553665161133 seconds\n",
            "\n",
            "\n",
            "progress: 0.50, 2/4\n",
            "processing TCGA-CI-6620-01A-01-TS1.jp2\n",
            "Number of contours found:  3234\n",
            "Number of foreground contours:  1249\n",
            "Number of filtered contours:  2\n",
            "Creating patches for:  TCGA-CI-6620-01A-01-TS1 ...\n",
            "Total number of contours to process:  2\n",
            "Bounding Box: 520 1662 3962 4653\n",
            "Contour Area: 8262333.0\n",
            "Extracted 156 coordinates\n",
            "Bounding Box: 410 0 2337 2621\n",
            "Contour Area: 3640103.0\n",
            "Extracted 67 coordinates\n",
            "start stitching TCGA-CI-6620-01A-01-TS1\n",
            "original size: 4482 x 6605\n",
            "downscaled size for stiching: 4482 x 6605\n",
            "number of patches: 223\n",
            "patch size: 256x256 patch level: 0\n",
            "ref patch size: (256, 256)x(256, 256)\n",
            "downscaled patch size: 256x256\n",
            "progress: 0/223 stitched\n",
            "progress: 23/223 stitched\n",
            "progress: 46/223 stitched\n",
            "progress: 69/223 stitched\n",
            "progress: 92/223 stitched\n",
            "progress: 115/223 stitched\n",
            "progress: 138/223 stitched\n",
            "progress: 161/223 stitched\n",
            "progress: 184/223 stitched\n",
            "progress: 207/223 stitched\n",
            "segmentation took 5.886132717132568 seconds\n",
            "patching took 0.21893763542175293 seconds\n",
            "stitching took 0.47045278549194336 seconds\n",
            "\n",
            "\n",
            "progress: 0.75, 3/4\n",
            "processing TCGA-G5-6641-01A-01-TS1.jp2\n",
            "Number of contours found:  1172\n",
            "Number of foreground contours:  443\n",
            "Number of filtered contours:  1\n",
            "Creating patches for:  TCGA-G5-6641-01A-01-TS1 ...\n",
            "Total number of contours to process:  1\n",
            "Bounding Box: 456 0 3267 3176\n",
            "Contour Area: 6699118.5\n",
            "Extracted 117 coordinates\n",
            "start stitching TCGA-G5-6641-01A-01-TS1\n",
            "original size: 3984 x 3429\n",
            "downscaled size for stiching: 3984 x 3429\n",
            "number of patches: 117\n",
            "patch size: 256x256 patch level: 0\n",
            "ref patch size: (256, 256)x(256, 256)\n",
            "downscaled patch size: 256x256\n",
            "progress: 0/117 stitched\n",
            "progress: 12/117 stitched\n",
            "progress: 24/117 stitched\n",
            "progress: 36/117 stitched\n",
            "progress: 48/117 stitched\n",
            "progress: 60/117 stitched\n",
            "progress: 72/117 stitched\n",
            "progress: 84/117 stitched\n",
            "progress: 96/117 stitched\n",
            "progress: 108/117 stitched\n",
            "segmentation took 4.257205486297607 seconds\n",
            "patching took 0.11039066314697266 seconds\n",
            "stitching took 0.19412994384765625 seconds\n",
            "average segmentation time in s per slide: 5.578254878520966\n",
            "average patching time in s per slide: 0.13670319318771362\n",
            "average stiching time in s per slide: 0.3303806185722351\n",
            "Folder zipped as RESULT_PATCHES_DIRECTORY_20241118-130711.zip\n",
            "Your browser has been opened to visit:\n",
            "\n",
            "    https://accounts.google.com/o/oauth2/auth?client_id=334127077075-q6em5qvm1bgiu16oov8se8kq7bpo7a22.apps.googleusercontent.com&redirect_uri=http%3A%2F%2Flocalhost%3A8090%2F&scope=https%3A%2F%2Fwww.googleapis.com%2Fauth%2Fdrive&access_type=offline&response_type=code\n",
            "\n",
            "Traceback (most recent call last):\n",
            "  File \"/usr/lib/python3.10/socketserver.py\", line 294, in handle_request\n",
            "    ready = selector.select(timeout)\n",
            "  File \"/usr/lib/python3.10/selectors.py\", line 416, in select\n",
            "    fd_event_list = self._selector.poll(timeout)\n",
            "KeyboardInterrupt\n",
            "\n",
            "During handling of the above exception, another exception occurred:\n",
            "\n",
            "Traceback (most recent call last):\n",
            "  File \"/content/drive/MyDrive/6-Image-Similarity/DELG-Search/pipeline_preprocessing.py\", line 107, in <module>\n",
            "    main()\n",
            "  File \"/content/drive/MyDrive/6-Image-Similarity/DELG-Search/pipeline_preprocessing.py\", line 96, in main\n",
            "    pipeline(\n",
            "  File \"/content/drive/MyDrive/6-Image-Similarity/DELG-Search/pipeline_preprocessing.py\", line 82, in pipeline\n",
            "    upload_to_drive(zip_path, folder_id=\"1jvJIjImGgPQ0u4TFXiLPsEvmCufIij4w\")\n",
            "  File \"/content/drive/MyDrive/6-Image-Similarity/DELG-Search/utils/ggdrive.py\", line 9, in upload_to_drive\n",
            "    gauth.LocalWebserverAuth()  # Creates local webserver and auto handles authentication\n",
            "  File \"/usr/local/lib/python3.10/dist-packages/pydrive/auth.py\", line 115, in _decorated\n",
            "    code = decoratee(self, *args, **kwargs)\n",
            "  File \"/usr/local/lib/python3.10/dist-packages/pydrive/auth.py\", line 232, in LocalWebserverAuth\n",
            "    httpd.handle_request()\n",
            "  File \"/usr/lib/python3.10/socketserver.py\", line 290, in handle_request\n",
            "    with _ServerSelector() as selector:\n",
            "  File \"/usr/lib/python3.10/selectors.py\", line 203, in __exit__\n",
            "    def __exit__(self, *args):\n",
            "KeyboardInterrupt\n",
            "^C\n"
          ]
        }
      ]
    },
    {
      "cell_type": "code",
      "execution_count": null,
      "id": "110b0212",
      "metadata": {
        "execution": {
          "iopub.execute_input": "2024-11-15T14:35:34.103241Z",
          "iopub.status.busy": "2024-11-15T14:35:34.102821Z"
        },
        "papermill": {
          "duration": null,
          "end_time": null,
          "exception": false,
          "start_time": "2024-11-15T14:35:33.991406",
          "status": "running"
        },
        "scrolled": true,
        "tags": [],
        "id": "110b0212",
        "outputId": "86ec2b1b-2170-457f-d2a3-e3bcb68c393f"
      },
      "outputs": [
        {
          "name": "stdout",
          "output_type": "stream",
          "text": [
            "source:  TCGA-jp2/TCGA-OV\r\n",
            "patch_save_dir:  RESULT_PATCHES_DIRECTORY/TCGA-OV/patches\r\n",
            "mask_save_dir:  RESULT_PATCHES_DIRECTORY/TCGA-OV/masks\r\n",
            "stitch_save_dir:  RESULT_PATCHES_DIRECTORY/TCGA-OV/stitches\r\n",
            "source : TCGA-jp2/TCGA-OV\r\n",
            "save_dir : RESULT_PATCHES_DIRECTORY/TCGA-OV\r\n",
            "patch_save_dir : RESULT_PATCHES_DIRECTORY/TCGA-OV/patches\r\n",
            "mask_save_dir : RESULT_PATCHES_DIRECTORY/TCGA-OV/masks\r\n",
            "stitch_save_dir : RESULT_PATCHES_DIRECTORY/TCGA-OV/stitches\r\n",
            "\r\n",
            "\r\n",
            "progress: 0.00, 0/71\r\n",
            "processing TCGA-04-1347-01A-01-BS1.jp2\r\n"
          ]
        },
        {
          "name": "stdout",
          "output_type": "stream",
          "text": [
            "Number of contours found:  5854\r\n",
            "Number of foreground contours:  584\r\n",
            "Number of filtered contours:  1\r\n"
          ]
        },
        {
          "name": "stdout",
          "output_type": "stream",
          "text": [
            "Creating patches for:  TCGA-04-1347-01A-01-BS1 ...\r\n",
            "Total number of contours to process:  1\r\n",
            "Bounding Box: 133 165 4975 5727\r\n",
            "Contour Area: 16958997.5\r\n"
          ]
        },
        {
          "name": "stdout",
          "output_type": "stream",
          "text": [
            "Extracted 285 coordinates\r\n"
          ]
        },
        {
          "name": "stdout",
          "output_type": "stream",
          "text": [
            "start stitching TCGA-04-1347-01A-01-BS1\r\n",
            "original size: 5516 x 6416\r\n",
            "downscaled size for stiching: 5516 x 6416\r\n",
            "number of patches: 285\r\n",
            "patch size: 256x256 patch level: 0\r\n",
            "ref patch size: (256, 256)x(256, 256)\r\n"
          ]
        },
        {
          "name": "stdout",
          "output_type": "stream",
          "text": [
            "downscaled patch size: 256x256\r\n",
            "progress: 0/285 stitched\r\n"
          ]
        },
        {
          "name": "stdout",
          "output_type": "stream",
          "text": [
            "progress: 29/285 stitched\r\n",
            "progress: 58/285 stitched\r\n",
            "progress: 87/285 stitched\r\n"
          ]
        },
        {
          "name": "stdout",
          "output_type": "stream",
          "text": [
            "progress: 116/285 stitched\r\n",
            "progress: 145/285 stitched\r\n"
          ]
        },
        {
          "name": "stdout",
          "output_type": "stream",
          "text": [
            "progress: 174/285 stitched\r\n",
            "progress: 203/285 stitched\r\n"
          ]
        },
        {
          "name": "stdout",
          "output_type": "stream",
          "text": [
            "progress: 232/285 stitched\r\n",
            "progress: 261/285 stitched\r\n"
          ]
        },
        {
          "name": "stdout",
          "output_type": "stream",
          "text": [
            "segmentation took 7.513582468032837 seconds\r\n",
            "patching took 0.12498927116394043 seconds\r\n",
            "stitching took 0.5858097076416016 seconds\r\n",
            "\r\n",
            "\r\n",
            "progress: 0.01, 1/71\r\n",
            "processing TCGA-04-1350-01A-01-BS1.jp2\r\n"
          ]
        },
        {
          "name": "stdout",
          "output_type": "stream",
          "text": [
            "Number of contours found:  6465\r\n",
            "Number of foreground contours:  2088\r\n"
          ]
        },
        {
          "name": "stdout",
          "output_type": "stream",
          "text": [
            "Number of filtered contours:  1\r\n"
          ]
        },
        {
          "name": "stdout",
          "output_type": "stream",
          "text": [
            "Creating patches for:  TCGA-04-1350-01A-01-BS1 ...\r\n",
            "Total number of contours to process:  1\r\n",
            "Bounding Box: 1289 1406 4620 3982\r\n",
            "Contour Area: 8813639.0\r\n"
          ]
        },
        {
          "name": "stdout",
          "output_type": "stream",
          "text": [
            "Extracted 160 coordinates\r\n"
          ]
        },
        {
          "name": "stdout",
          "output_type": "stream",
          "text": [
            "start stitching TCGA-04-1350-01A-01-BS1\r\n",
            "original size: 6235 x 5944\r\n",
            "downscaled size for stiching: 6235 x 5944\r\n",
            "number of patches: 160\r\n",
            "patch size: 256x256 patch level: 0\r\n",
            "ref patch size: (256, 256)x(256, 256)\r\n"
          ]
        },
        {
          "name": "stdout",
          "output_type": "stream",
          "text": [
            "downscaled patch size: 256x256\r\n",
            "progress: 0/160 stitched\r\n",
            "progress: 16/160 stitched\r\n",
            "progress: 32/160 stitched\r\n"
          ]
        },
        {
          "name": "stdout",
          "output_type": "stream",
          "text": [
            "progress: 48/160 stitched\r\n",
            "progress: 64/160 stitched\r\n",
            "progress: 80/160 stitched\r\n",
            "progress: 96/160 stitched\r\n",
            "progress: 112/160 stitched\r\n"
          ]
        },
        {
          "name": "stdout",
          "output_type": "stream",
          "text": [
            "progress: 128/160 stitched\r\n",
            "progress: 144/160 stitched\r\n"
          ]
        },
        {
          "name": "stdout",
          "output_type": "stream",
          "text": [
            "segmentation took 7.8679914474487305 seconds\r\n",
            "patching took 0.1476452350616455 seconds\r\n",
            "stitching took 0.42029309272766113 seconds\r\n"
          ]
        },
        {
          "name": "stdout",
          "output_type": "stream",
          "text": [
            "\r\n",
            "\r\n",
            "progress: 0.03, 2/71\r\n",
            "processing TCGA-04-1351-01A-01-BS1.jp2\r\n"
          ]
        },
        {
          "name": "stdout",
          "output_type": "stream",
          "text": [
            "Number of contours found:  9134\r\n",
            "Number of foreground contours:  742\r\n",
            "Number of filtered contours:  1\r\n"
          ]
        },
        {
          "name": "stdout",
          "output_type": "stream",
          "text": [
            "Creating patches for:  TCGA-04-1351-01A-01-BS1 ...\r\n",
            "Total number of contours to process:  1\r\n",
            "Bounding Box: 102 60 8421 3304\r\n",
            "Contour Area: 18913173.5\r\n"
          ]
        },
        {
          "name": "stdout",
          "output_type": "stream",
          "text": [
            "Extracted 318 coordinates\r\n",
            "start stitching TCGA-04-1351-01A-01-BS1\r\n",
            "original size: 8633 x 3492\r\n",
            "downscaled size for stiching: 8633 x 3492\r\n",
            "number of patches: 318\r\n",
            "patch size: 256x256 patch level: 0\r\n",
            "ref patch size: (256, 256)x(256, 256)\r\n"
          ]
        },
        {
          "name": "stdout",
          "output_type": "stream",
          "text": [
            "downscaled patch size: 256x256\r\n",
            "progress: 0/318 stitched\r\n",
            "progress: 32/318 stitched\r\n",
            "progress: 64/318 stitched\r\n"
          ]
        },
        {
          "name": "stdout",
          "output_type": "stream",
          "text": [
            "progress: 96/318 stitched\r\n",
            "progress: 128/318 stitched\r\n"
          ]
        },
        {
          "name": "stdout",
          "output_type": "stream",
          "text": [
            "progress: 160/318 stitched\r\n",
            "progress: 192/318 stitched\r\n"
          ]
        },
        {
          "name": "stdout",
          "output_type": "stream",
          "text": [
            "progress: 224/318 stitched\r\n",
            "progress: 256/318 stitched\r\n"
          ]
        },
        {
          "name": "stdout",
          "output_type": "stream",
          "text": [
            "progress: 288/318 stitched\r\n"
          ]
        },
        {
          "name": "stdout",
          "output_type": "stream",
          "text": [
            "segmentation took 6.25615382194519 seconds\r\n",
            "patching took 0.14115548133850098 seconds\r\n",
            "stitching took 0.4900541305541992 seconds\r\n",
            "\r\n",
            "\r\n",
            "progress: 0.04, 3/71\r\n",
            "processing TCGA-04-1351-01A-01-TS1.jp2\r\n"
          ]
        },
        {
          "name": "stdout",
          "output_type": "stream",
          "text": [
            "Number of contours found:  8263\r\n",
            "Number of foreground contours:  1550\r\n"
          ]
        },
        {
          "name": "stdout",
          "output_type": "stream",
          "text": [
            "Number of filtered contours:  2\r\n"
          ]
        },
        {
          "name": "stdout",
          "output_type": "stream",
          "text": [
            "Creating patches for:  TCGA-04-1351-01A-01-TS1 ...\r\n",
            "Total number of contours to process:  2\r\n",
            "Bounding Box: 8710 1037 2563 6496\r\n",
            "Contour Area: 10013876.0\r\n"
          ]
        },
        {
          "name": "stdout",
          "output_type": "stream",
          "text": [
            "Extracted 175 coordinates\r\n"
          ]
        },
        {
          "name": "stdout",
          "output_type": "stream",
          "text": [
            "Bounding Box: 1055 527 3269 4768\r\n",
            "Contour Area: 7185213.0\r\n"
          ]
        },
        {
          "name": "stdout",
          "output_type": "stream",
          "text": [
            "Extracted 130 coordinates\r\n"
          ]
        },
        {
          "name": "stdout",
          "output_type": "stream",
          "text": [
            "start stitching TCGA-04-1351-01A-01-TS1\r\n",
            "original size: 11997 x 8156\r\n",
            "downscaled size for stiching: 11997 x 8156\r\n",
            "number of patches: 305\r\n",
            "patch size: 256x256 patch level: 0\r\n",
            "ref patch size: (256, 256)x(256, 256)\r\n"
          ]
        },
        {
          "name": "stdout",
          "output_type": "stream",
          "text": [
            "downscaled patch size: 256x256\r\n",
            "progress: 0/305 stitched\r\n"
          ]
        },
        {
          "name": "stdout",
          "output_type": "stream",
          "text": [
            "progress: 31/305 stitched\r\n",
            "progress: 62/305 stitched\r\n"
          ]
        },
        {
          "name": "stdout",
          "output_type": "stream",
          "text": [
            "progress: 93/305 stitched\r\n",
            "progress: 124/305 stitched\r\n"
          ]
        },
        {
          "name": "stdout",
          "output_type": "stream",
          "text": [
            "progress: 155/305 stitched\r\n",
            "progress: 186/305 stitched\r\n",
            "progress: 217/305 stitched\r\n"
          ]
        },
        {
          "name": "stdout",
          "output_type": "stream",
          "text": [
            "progress: 248/305 stitched\r\n",
            "progress: 279/305 stitched\r\n"
          ]
        },
        {
          "name": "stdout",
          "output_type": "stream",
          "text": [
            "segmentation took 20.909470319747925 seconds\r\n",
            "patching took 0.34147095680236816 seconds\r\n",
            "stitching took 1.3312017917633057 seconds\r\n",
            "\r\n",
            "\r\n",
            "progress: 0.06, 4/71\r\n",
            "processing TCGA-04-1516-01A-01-TS1.jp2\r\n"
          ]
        },
        {
          "name": "stdout",
          "output_type": "stream",
          "text": [
            "Number of contours found:  4869\r\n",
            "Number of foreground contours:  2417\r\n"
          ]
        },
        {
          "name": "stdout",
          "output_type": "stream",
          "text": [
            "Number of filtered contours:  2\r\n"
          ]
        },
        {
          "name": "stdout",
          "output_type": "stream",
          "text": [
            "Creating patches for:  TCGA-04-1516-01A-01-TS1 ...\r\n",
            "Total number of contours to process:  2\r\n",
            "Bounding Box: 10417 2606 2526 5221\r\n",
            "Contour Area: 5537464.0\r\n"
          ]
        },
        {
          "name": "stdout",
          "output_type": "stream",
          "text": [
            "Extracted 105 coordinates\r\n"
          ]
        },
        {
          "name": "stdout",
          "output_type": "stream",
          "text": [
            "Bounding Box: 321 159 2419 5243\r\n",
            "Contour Area: 6028470.0\r\n"
          ]
        },
        {
          "name": "stdout",
          "output_type": "stream",
          "text": [
            "Extracted 110 coordinates\r\n"
          ]
        },
        {
          "name": "stdout",
          "output_type": "stream",
          "text": [
            "start stitching TCGA-04-1516-01A-01-TS1\r\n",
            "original size: 12992 x 8066\r\n",
            "downscaled size for stiching: 12992 x 8066\r\n",
            "number of patches: 215\r\n",
            "patch size: 256x256 patch level: 0\r\n",
            "ref patch size: (256, 256)x(256, 256)\r\n"
          ]
        },
        {
          "name": "stdout",
          "output_type": "stream",
          "text": [
            "downscaled patch size: 256x256\r\n",
            "progress: 0/215 stitched\r\n",
            "progress: 22/215 stitched\r\n"
          ]
        },
        {
          "name": "stdout",
          "output_type": "stream",
          "text": [
            "progress: 44/215 stitched\r\n",
            "progress: 66/215 stitched\r\n",
            "progress: 88/215 stitched\r\n"
          ]
        },
        {
          "name": "stdout",
          "output_type": "stream",
          "text": [
            "progress: 110/215 stitched\r\n",
            "progress: 132/215 stitched\r\n",
            "progress: 154/215 stitched\r\n",
            "progress: 176/215 stitched\r\n"
          ]
        },
        {
          "name": "stdout",
          "output_type": "stream",
          "text": [
            "progress: 198/215 stitched\r\n"
          ]
        },
        {
          "name": "stdout",
          "output_type": "stream",
          "text": [
            "segmentation took 21.899006128311157 seconds\r\n",
            "patching took 0.3740992546081543 seconds\r\n",
            "stitching took 1.0983448028564453 seconds\r\n",
            "\r\n",
            "\r\n",
            "progress: 0.07, 5/71\r\n",
            "processing TCGA-04-1525-01A-01-BS1.jp2\r\n"
          ]
        },
        {
          "name": "stdout",
          "output_type": "stream",
          "text": [
            "Number of contours found:  5614\r\n",
            "Number of foreground contours:  783\r\n"
          ]
        },
        {
          "name": "stdout",
          "output_type": "stream",
          "text": [
            "Number of filtered contours:  2\r\n"
          ]
        },
        {
          "name": "stdout",
          "output_type": "stream",
          "text": [
            "Creating patches for:  TCGA-04-1525-01A-01-BS1 ...\r\n",
            "Total number of contours to process:  2\r\n",
            "Bounding Box: 2008 1028 3156 3439\r\n",
            "Contour Area: 6141230.0\r\n"
          ]
        },
        {
          "name": "stdout",
          "output_type": "stream",
          "text": [
            "Extracted 110 coordinates\r\n"
          ]
        },
        {
          "name": "stdout",
          "output_type": "stream",
          "text": [
            "Bounding Box: 78 594 1762 3431\r\n",
            "Contour Area: 3348764.5\r\n"
          ]
        },
        {
          "name": "stdout",
          "output_type": "stream",
          "text": [
            "Extracted 65 coordinates\r\n"
          ]
        },
        {
          "name": "stdout",
          "output_type": "stream",
          "text": [
            "start stitching TCGA-04-1525-01A-01-BS1\r\n",
            "original size: 5500 x 4536\r\n",
            "downscaled size for stiching: 5500 x 4536\r\n",
            "number of patches: 175\r\n",
            "patch size: 256x256 patch level: 0\r\n",
            "ref patch size: (256, 256)x(256, 256)\r\n"
          ]
        },
        {
          "name": "stdout",
          "output_type": "stream",
          "text": [
            "downscaled patch size: 256x256\r\n",
            "progress: 0/175 stitched\r\n",
            "progress: 18/175 stitched\r\n",
            "progress: 36/175 stitched\r\n"
          ]
        },
        {
          "name": "stdout",
          "output_type": "stream",
          "text": [
            "progress: 54/175 stitched\r\n",
            "progress: 72/175 stitched\r\n",
            "progress: 90/175 stitched\r\n",
            "progress: 108/175 stitched\r\n"
          ]
        },
        {
          "name": "stdout",
          "output_type": "stream",
          "text": [
            "progress: 126/175 stitched\r\n",
            "progress: 144/175 stitched\r\n",
            "progress: 162/175 stitched\r\n"
          ]
        },
        {
          "name": "stdout",
          "output_type": "stream",
          "text": [
            "segmentation took 4.862451791763306 seconds\r\n",
            "patching took 0.3315272331237793 seconds\r\n",
            "stitching took 0.2986330986022949 seconds\r\n",
            "\r\n",
            "\r\n",
            "progress: 0.08, 6/71\r\n",
            "processing TCGA-04-1525-01A-01-TS1.jp2\r\n"
          ]
        },
        {
          "name": "stdout",
          "output_type": "stream",
          "text": [
            "Number of contours found:  6529\r\n",
            "Number of foreground contours:  3625\r\n"
          ]
        },
        {
          "name": "stdout",
          "output_type": "stream",
          "text": [
            "Number of filtered contours:  2\r\n"
          ]
        },
        {
          "name": "stdout",
          "output_type": "stream",
          "text": [
            "Creating patches for:  TCGA-04-1525-01A-01-TS1 ...\r\n",
            "Total number of contours to process:  2\r\n",
            "Bounding Box: 8896 2445 2693 5134\r\n",
            "Contour Area: 7036816.0\r\n"
          ]
        },
        {
          "name": "stdout",
          "output_type": "stream",
          "text": [
            "Extracted 127 coordinates\r\n"
          ]
        },
        {
          "name": "stdout",
          "output_type": "stream",
          "text": [
            "Bounding Box: 555 147 2392 5597\r\n",
            "Contour Area: 5863247.5\r\n"
          ]
        },
        {
          "name": "stdout",
          "output_type": "stream",
          "text": [
            "Extracted 109 coordinates\r\n"
          ]
        },
        {
          "name": "stdout",
          "output_type": "stream",
          "text": [
            "start stitching TCGA-04-1525-01A-01-TS1\r\n",
            "original size: 12497 x 8468\r\n",
            "downscaled size for stiching: 12497 x 8468\r\n",
            "number of patches: 236\r\n",
            "patch size: 256x256 patch level: 0\r\n",
            "ref patch size: (256, 256)x(256, 256)\r\n"
          ]
        },
        {
          "name": "stdout",
          "output_type": "stream",
          "text": [
            "downscaled patch size: 256x256\r\n",
            "progress: 0/236 stitched\r\n",
            "progress: 24/236 stitched\r\n",
            "progress: 48/236 stitched\r\n"
          ]
        },
        {
          "name": "stdout",
          "output_type": "stream",
          "text": [
            "progress: 72/236 stitched\r\n",
            "progress: 96/236 stitched\r\n",
            "progress: 120/236 stitched\r\n"
          ]
        },
        {
          "name": "stdout",
          "output_type": "stream",
          "text": [
            "progress: 144/236 stitched\r\n",
            "progress: 168/236 stitched\r\n",
            "progress: 192/236 stitched\r\n"
          ]
        },
        {
          "name": "stdout",
          "output_type": "stream",
          "text": [
            "progress: 216/236 stitched\r\n"
          ]
        },
        {
          "name": "stdout",
          "output_type": "stream",
          "text": [
            "segmentation took 22.365488290786743 seconds\r\n",
            "patching took 0.3337862491607666 seconds\r\n",
            "stitching took 1.382350206375122 seconds\r\n",
            "\r\n",
            "\r\n",
            "progress: 0.10, 7/71\r\n",
            "processing TCGA-04-1652-01A-01-BS1.jp2\r\n"
          ]
        },
        {
          "name": "stdout",
          "output_type": "stream",
          "text": [
            "Number of contours found:  3162\r\n",
            "Number of foreground contours:  523\r\n",
            "Number of filtered contours:  1\r\n"
          ]
        },
        {
          "name": "stdout",
          "output_type": "stream",
          "text": [
            "Creating patches for:  TCGA-04-1652-01A-01-BS1 ...\r\n",
            "Total number of contours to process:  1\r\n",
            "Bounding Box: 242 107 4746 4666\r\n",
            "Contour Area: 15539174.5\r\n"
          ]
        },
        {
          "name": "stdout",
          "output_type": "stream",
          "text": [
            "Extracted 262 coordinates\r\n"
          ]
        },
        {
          "name": "stdout",
          "output_type": "stream",
          "text": [
            "start stitching TCGA-04-1652-01A-01-BS1\r\n",
            "original size: 5000 x 5114\r\n",
            "downscaled size for stiching: 5000 x 5114\r\n",
            "number of patches: 262\r\n",
            "patch size: 256x256 patch level: 0\r\n",
            "ref patch size: (256, 256)x(256, 256)\r\n"
          ]
        },
        {
          "name": "stdout",
          "output_type": "stream",
          "text": [
            "downscaled patch size: 256x256\r\n",
            "progress: 0/262 stitched\r\n"
          ]
        },
        {
          "name": "stdout",
          "output_type": "stream",
          "text": [
            "progress: 27/262 stitched\r\n",
            "progress: 54/262 stitched\r\n"
          ]
        },
        {
          "name": "stdout",
          "output_type": "stream",
          "text": [
            "progress: 81/262 stitched\r\n",
            "progress: 108/262 stitched\r\n",
            "progress: 135/262 stitched\r\n"
          ]
        },
        {
          "name": "stdout",
          "output_type": "stream",
          "text": [
            "progress: 162/262 stitched\r\n",
            "progress: 189/262 stitched\r\n",
            "progress: 216/262 stitched\r\n"
          ]
        },
        {
          "name": "stdout",
          "output_type": "stream",
          "text": [
            "progress: 243/262 stitched\r\n"
          ]
        },
        {
          "name": "stdout",
          "output_type": "stream",
          "text": [
            "segmentation took 5.20878529548645 seconds\r\n",
            "patching took 0.18171238899230957 seconds\r\n",
            "stitching took 0.38747739791870117 seconds\r\n"
          ]
        },
        {
          "name": "stdout",
          "output_type": "stream",
          "text": [
            "\r\n",
            "\r\n",
            "progress: 0.11, 8/71\r\n",
            "processing TCGA-04-1652-01A-01-TS1.jp2\r\n"
          ]
        },
        {
          "name": "stdout",
          "output_type": "stream",
          "text": [
            "Number of contours found:  7660\r\n",
            "Number of foreground contours:  634\r\n",
            "Number of filtered contours:  1\r\n"
          ]
        },
        {
          "name": "stdout",
          "output_type": "stream",
          "text": [
            "Creating patches for:  TCGA-04-1652-01A-01-TS1 ...\r\n",
            "Total number of contours to process:  1\r\n",
            "Bounding Box: 123 579 7315 4838\r\n",
            "Contour Area: 22016956.5\r\n"
          ]
        },
        {
          "name": "stdout",
          "output_type": "stream",
          "text": [
            "Extracted 368 coordinates\r\n"
          ]
        },
        {
          "name": "stdout",
          "output_type": "stream",
          "text": [
            "start stitching TCGA-04-1652-01A-01-TS1\r\n",
            "original size: 8000 x 5614\r\n",
            "downscaled size for stiching: 8000 x 5614\r\n",
            "number of patches: 368\r\n",
            "patch size: 256x256 patch level: 0\r\n",
            "ref patch size: (256, 256)x(256, 256)\r\n"
          ]
        },
        {
          "name": "stdout",
          "output_type": "stream",
          "text": [
            "downscaled patch size: 256x256\r\n",
            "progress: 0/368 stitched\r\n"
          ]
        },
        {
          "name": "stdout",
          "output_type": "stream",
          "text": [
            "progress: 37/368 stitched\r\n",
            "progress: 74/368 stitched\r\n"
          ]
        },
        {
          "name": "stdout",
          "output_type": "stream",
          "text": [
            "progress: 111/368 stitched\r\n",
            "progress: 148/368 stitched\r\n"
          ]
        },
        {
          "name": "stdout",
          "output_type": "stream",
          "text": [
            "progress: 185/368 stitched\r\n"
          ]
        },
        {
          "name": "stdout",
          "output_type": "stream",
          "text": [
            "progress: 222/368 stitched\r\n",
            "progress: 259/368 stitched\r\n"
          ]
        },
        {
          "name": "stdout",
          "output_type": "stream",
          "text": [
            "progress: 296/368 stitched\r\n",
            "progress: 333/368 stitched\r\n"
          ]
        },
        {
          "name": "stdout",
          "output_type": "stream",
          "text": [
            "segmentation took 9.096118688583374 seconds\r\n",
            "patching took 0.19198226928710938 seconds\r\n",
            "stitching took 0.6084146499633789 seconds\r\n",
            "\r\n",
            "\r\n",
            "progress: 0.13, 9/71\r\n",
            "processing TCGA-09-0366-01A-01-BS1.jp2\r\n"
          ]
        },
        {
          "name": "stdout",
          "output_type": "stream",
          "text": [
            "Number of contours found:  182\r\n",
            "Number of foreground contours:  69\r\n",
            "Number of filtered contours:  1\r\n"
          ]
        },
        {
          "name": "stdout",
          "output_type": "stream",
          "text": [
            "Creating patches for:  TCGA-09-0366-01A-01-BS1 ...\r\n",
            "Total number of contours to process:  1\r\n",
            "Bounding Box: 350 151 2025 2360\r\n",
            "Contour Area: 2792971.5\r\n"
          ]
        },
        {
          "name": "stdout",
          "output_type": "stream",
          "text": [
            "Extracted 52 coordinates\r\n",
            "start stitching TCGA-09-0366-01A-01-BS1\r\n",
            "original size: 2496 x 2897\r\n",
            "downscaled size for stiching: 2496 x 2897\r\n",
            "number of patches: 52\r\n",
            "patch size: 256x256 patch level: 0\r\n",
            "ref patch size: (256, 256)x(256, 256)\r\n"
          ]
        },
        {
          "name": "stdout",
          "output_type": "stream",
          "text": [
            "downscaled patch size: 256x256\r\n",
            "progress: 0/52 stitched\r\n",
            "progress: 6/52 stitched\r\n"
          ]
        },
        {
          "name": "stdout",
          "output_type": "stream",
          "text": [
            "progress: 12/52 stitched\r\n",
            "progress: 18/52 stitched\r\n",
            "progress: 24/52 stitched\r\n",
            "progress: 30/52 stitched\r\n",
            "progress: 36/52 stitched\r\n",
            "progress: 42/52 stitched\r\n",
            "progress: 48/52 stitched\r\n"
          ]
        },
        {
          "name": "stdout",
          "output_type": "stream",
          "text": [
            "segmentation took 1.3653016090393066 seconds\r\n",
            "patching took 0.1276836395263672 seconds\r\n",
            "stitching took 0.10448622703552246 seconds\r\n",
            "\r\n",
            "\r\n",
            "progress: 0.14, 10/71\r\n",
            "processing TCGA-09-0366-01A-01-TS1.jp2\r\n"
          ]
        },
        {
          "name": "stdout",
          "output_type": "stream",
          "text": [
            "Number of contours found:  4041\r\n",
            "Number of foreground contours:  2990\r\n"
          ]
        },
        {
          "name": "stdout",
          "output_type": "stream",
          "text": [
            "Number of filtered contours:  1\r\n"
          ]
        },
        {
          "name": "stdout",
          "output_type": "stream",
          "text": [
            "Creating patches for:  TCGA-09-0366-01A-01-TS1 ...\r\n",
            "Total number of contours to process:  1\r\n",
            "Bounding Box: 3905 1343 2072 2031\r\n",
            "Contour Area: 1887315.5\r\n"
          ]
        },
        {
          "name": "stdout",
          "output_type": "stream",
          "text": [
            "Extracted 39 coordinates\r\n"
          ]
        },
        {
          "name": "stdout",
          "output_type": "stream",
          "text": [
            "start stitching TCGA-09-0366-01A-01-TS1\r\n",
            "original size: 8989 x 3819\r\n",
            "downscaled size for stiching: 8989 x 3819\r\n",
            "number of patches: 39\r\n",
            "patch size: 256x256 patch level: 0\r\n",
            "ref patch size: (256, 256)x(256, 256)\r\n"
          ]
        },
        {
          "name": "stdout",
          "output_type": "stream",
          "text": [
            "downscaled patch size: 256x256\r\n",
            "progress: 0/39 stitched\r\n",
            "progress: 4/39 stitched\r\n",
            "progress: 8/39 stitched\r\n",
            "progress: 12/39 stitched\r\n"
          ]
        },
        {
          "name": "stdout",
          "output_type": "stream",
          "text": [
            "progress: 16/39 stitched\r\n",
            "progress: 20/39 stitched\r\n",
            "progress: 24/39 stitched\r\n",
            "progress: 28/39 stitched\r\n",
            "progress: 32/39 stitched\r\n",
            "progress: 36/39 stitched\r\n"
          ]
        },
        {
          "name": "stdout",
          "output_type": "stream",
          "text": [
            "segmentation took 6.501836061477661 seconds\r\n",
            "patching took 0.11695408821105957 seconds\r\n",
            "stitching took 0.29840779304504395 seconds\r\n",
            "\r\n",
            "\r\n",
            "progress: 0.15, 11/71\r\n",
            "processing TCGA-09-1659-01B-01-TS1.jp2\r\n"
          ]
        },
        {
          "name": "stdout",
          "output_type": "stream",
          "text": [
            "Number of contours found:  4093\r\n",
            "Number of foreground contours:  764\r\n",
            "Number of filtered contours:  2\r\n"
          ]
        },
        {
          "name": "stdout",
          "output_type": "stream",
          "text": [
            "Creating patches for:  TCGA-09-1659-01B-01-TS1 ...\r\n",
            "Total number of contours to process:  2\r\n",
            "Bounding Box: 272 2608 4191 2187\r\n",
            "Contour Area: 5350220.0\r\n"
          ]
        },
        {
          "name": "stdout",
          "output_type": "stream",
          "text": [
            "Extracted 96 coordinates\r\n"
          ]
        },
        {
          "name": "stdout",
          "output_type": "stream",
          "text": [
            "Bounding Box: 535 462 3821 2370\r\n",
            "Contour Area: 5317422.5\r\n"
          ]
        },
        {
          "name": "stdout",
          "output_type": "stream",
          "text": [
            "Extracted 94 coordinates\r\n"
          ]
        },
        {
          "name": "stdout",
          "output_type": "stream",
          "text": [
            "start stitching TCGA-09-1659-01B-01-TS1\r\n",
            "original size: 5000 x 5366\r\n",
            "downscaled size for stiching: 5000 x 5366\r\n",
            "number of patches: 190\r\n",
            "patch size: 256x256 patch level: 0\r\n",
            "ref patch size: (256, 256)x(256, 256)\r\n"
          ]
        },
        {
          "name": "stdout",
          "output_type": "stream",
          "text": [
            "downscaled patch size: 256x256\r\n",
            "progress: 0/190 stitched\r\n",
            "progress: 19/190 stitched\r\n",
            "progress: 38/190 stitched\r\n"
          ]
        },
        {
          "name": "stdout",
          "output_type": "stream",
          "text": [
            "progress: 57/190 stitched\r\n",
            "progress: 76/190 stitched\r\n",
            "progress: 95/190 stitched\r\n",
            "progress: 114/190 stitched\r\n"
          ]
        },
        {
          "name": "stdout",
          "output_type": "stream",
          "text": [
            "progress: 133/190 stitched\r\n",
            "progress: 152/190 stitched\r\n",
            "progress: 171/190 stitched\r\n"
          ]
        },
        {
          "name": "stdout",
          "output_type": "stream",
          "text": [
            "segmentation took 5.246484994888306 seconds\r\n",
            "patching took 0.23379063606262207 seconds\r\n",
            "stitching took 0.30609941482543945 seconds\r\n",
            "\r\n",
            "\r\n",
            "progress: 0.17, 12/71\r\n",
            "processing TCGA-09-2055-01B-01-TS1.jp2\r\n"
          ]
        },
        {
          "name": "stdout",
          "output_type": "stream",
          "text": [
            "Number of contours found:  6386\r\n",
            "Number of foreground contours:  1981\r\n"
          ]
        },
        {
          "name": "stdout",
          "output_type": "stream",
          "text": [
            "Number of filtered contours:  1\r\n"
          ]
        },
        {
          "name": "stdout",
          "output_type": "stream",
          "text": [
            "Creating patches for:  TCGA-09-2055-01B-01-TS1 ...\r\n",
            "Total number of contours to process:  1\r\n",
            "Bounding Box: 673 252 7482 5368\r\n",
            "Contour Area: 16068017.5\r\n"
          ]
        },
        {
          "name": "stdout",
          "output_type": "stream",
          "text": [
            "Extracted 286 coordinates\r\n"
          ]
        },
        {
          "name": "stdout",
          "output_type": "stream",
          "text": [
            "start stitching TCGA-09-2055-01B-01-TS1\r\n",
            "original size: 8500 x 6353\r\n",
            "downscaled size for stiching: 8500 x 6353\r\n",
            "number of patches: 286\r\n",
            "patch size: 256x256 patch level: 0\r\n",
            "ref patch size: (256, 256)x(256, 256)\r\n"
          ]
        },
        {
          "name": "stdout",
          "output_type": "stream",
          "text": [
            "downscaled patch size: 256x256\r\n",
            "progress: 0/286 stitched\r\n"
          ]
        },
        {
          "name": "stdout",
          "output_type": "stream",
          "text": [
            "progress: 29/286 stitched\r\n",
            "progress: 58/286 stitched\r\n"
          ]
        },
        {
          "name": "stdout",
          "output_type": "stream",
          "text": [
            "progress: 87/286 stitched\r\n",
            "progress: 116/286 stitched\r\n",
            "progress: 145/286 stitched\r\n"
          ]
        },
        {
          "name": "stdout",
          "output_type": "stream",
          "text": [
            "progress: 174/286 stitched\r\n",
            "progress: 203/286 stitched\r\n"
          ]
        },
        {
          "name": "stdout",
          "output_type": "stream",
          "text": [
            "progress: 232/286 stitched\r\n",
            "progress: 261/286 stitched\r\n"
          ]
        },
        {
          "name": "stdout",
          "output_type": "stream",
          "text": [
            "segmentation took 10.728960275650024 seconds\r\n",
            "patching took 0.2668149471282959 seconds\r\n",
            "stitching took 0.6803314685821533 seconds\r\n",
            "\r\n",
            "\r\n",
            "progress: 0.18, 13/71\r\n",
            "processing TCGA-13-0761-01A-01-TS1.jp2\r\n"
          ]
        },
        {
          "name": "stdout",
          "output_type": "stream",
          "text": [
            "Number of contours found:  3965\r\n",
            "Number of foreground contours:  442\r\n",
            "Number of filtered contours:  1\r\n"
          ]
        },
        {
          "name": "stdout",
          "output_type": "stream",
          "text": [
            "Creating patches for:  TCGA-13-0761-01A-01-TS1 ...\r\n",
            "Total number of contours to process:  1\r\n",
            "Bounding Box: 244 305 5195 4752\r\n",
            "Contour Area: 15096417.5\r\n"
          ]
        },
        {
          "name": "stdout",
          "output_type": "stream",
          "text": [
            "Extracted 257 coordinates\r\n"
          ]
        },
        {
          "name": "stdout",
          "output_type": "stream",
          "text": [
            "start stitching TCGA-13-0761-01A-01-TS1\r\n",
            "original size: 5755 x 5250\r\n",
            "downscaled size for stiching: 5755 x 5250\r\n",
            "number of patches: 257\r\n",
            "patch size: 256x256 patch level: 0\r\n",
            "ref patch size: (256, 256)x(256, 256)\r\n"
          ]
        },
        {
          "name": "stdout",
          "output_type": "stream",
          "text": [
            "downscaled patch size: 256x256\r\n",
            "progress: 0/257 stitched\r\n"
          ]
        },
        {
          "name": "stdout",
          "output_type": "stream",
          "text": [
            "progress: 26/257 stitched\r\n",
            "progress: 52/257 stitched\r\n",
            "progress: 78/257 stitched\r\n"
          ]
        },
        {
          "name": "stdout",
          "output_type": "stream",
          "text": [
            "progress: 104/257 stitched\r\n",
            "progress: 130/257 stitched\r\n",
            "progress: 156/257 stitched\r\n"
          ]
        },
        {
          "name": "stdout",
          "output_type": "stream",
          "text": [
            "progress: 182/257 stitched\r\n",
            "progress: 208/257 stitched\r\n",
            "progress: 234/257 stitched\r\n"
          ]
        },
        {
          "name": "stdout",
          "output_type": "stream",
          "text": [
            "segmentation took 5.984379053115845 seconds\r\n",
            "patching took 0.17560648918151855 seconds\r\n",
            "stitching took 0.43033361434936523 seconds\r\n",
            "\r\n",
            "\r\n",
            "progress: 0.20, 14/71\r\n",
            "processing TCGA-13-0766-01A-01-BS1.jp2\r\n"
          ]
        },
        {
          "name": "stdout",
          "output_type": "stream",
          "text": [
            "Number of contours found:  12265\r\n",
            "Number of foreground contours:  1978\r\n"
          ]
        },
        {
          "name": "stdout",
          "output_type": "stream",
          "text": [
            "Number of filtered contours:  1\r\n"
          ]
        },
        {
          "name": "stdout",
          "output_type": "stream",
          "text": [
            "Creating patches for:  TCGA-13-0766-01A-01-BS1 ...\r\n",
            "Total number of contours to process:  1\r\n",
            "Bounding Box: 574 298 8024 6615\r\n",
            "Contour Area: 31529159.0\r\n"
          ]
        },
        {
          "name": "stdout",
          "output_type": "stream",
          "text": [
            "Extracted 364 coordinates\r\n"
          ]
        },
        {
          "name": "stdout",
          "output_type": "stream",
          "text": [
            "start stitching TCGA-13-0766-01A-01-BS1\r\n",
            "original size: 8633 x 7173\r\n",
            "downscaled size for stiching: 8633 x 7173\r\n",
            "number of patches: 364\r\n",
            "patch size: 256x256 patch level: 0\r\n",
            "ref patch size: (256, 256)x(256, 256)\r\n"
          ]
        },
        {
          "name": "stdout",
          "output_type": "stream",
          "text": [
            "downscaled patch size: 256x256\r\n",
            "progress: 0/364 stitched\r\n"
          ]
        },
        {
          "name": "stdout",
          "output_type": "stream",
          "text": [
            "progress: 37/364 stitched\r\n",
            "progress: 74/364 stitched\r\n"
          ]
        },
        {
          "name": "stdout",
          "output_type": "stream",
          "text": [
            "progress: 111/364 stitched\r\n",
            "progress: 148/364 stitched\r\n"
          ]
        },
        {
          "name": "stdout",
          "output_type": "stream",
          "text": [
            "progress: 185/364 stitched\r\n",
            "progress: 222/364 stitched\r\n"
          ]
        },
        {
          "name": "stdout",
          "output_type": "stream",
          "text": [
            "progress: 259/364 stitched\r\n",
            "progress: 296/364 stitched\r\n"
          ]
        },
        {
          "name": "stdout",
          "output_type": "stream",
          "text": [
            "progress: 333/364 stitched\r\n"
          ]
        },
        {
          "name": "stdout",
          "output_type": "stream",
          "text": [
            "segmentation took 12.870487928390503 seconds\r\n",
            "patching took 0.25396299362182617 seconds\r\n",
            "stitching took 0.7459421157836914 seconds\r\n",
            "\r\n",
            "\r\n",
            "progress: 0.21, 15/71\r\n",
            "processing TCGA-13-0914-01A-01-BS1.jp2\r\n"
          ]
        },
        {
          "name": "stdout",
          "output_type": "stream",
          "text": [
            "Number of contours found:  4864\r\n",
            "Number of foreground contours:  1233\r\n",
            "Number of filtered contours:  1\r\n"
          ]
        },
        {
          "name": "stdout",
          "output_type": "stream",
          "text": [
            "Creating patches for:  TCGA-13-0914-01A-01-BS1 ...\r\n",
            "Total number of contours to process:  1\r\n",
            "Bounding Box: 585 392 4881 7664\r\n",
            "Contour Area: 24887818.0\r\n"
          ]
        },
        {
          "name": "stdout",
          "output_type": "stream",
          "text": [
            "Extracted 366 coordinates\r\n"
          ]
        },
        {
          "name": "stdout",
          "output_type": "stream",
          "text": [
            "start stitching TCGA-13-0914-01A-01-BS1\r\n",
            "original size: 5995 x 8194\r\n",
            "downscaled size for stiching: 5995 x 8194\r\n",
            "number of patches: 366\r\n",
            "patch size: 256x256 patch level: 0\r\n",
            "ref patch size: (256, 256)x(256, 256)\r\n"
          ]
        },
        {
          "name": "stdout",
          "output_type": "stream",
          "text": [
            "downscaled patch size: 256x256\r\n",
            "progress: 0/366 stitched\r\n"
          ]
        },
        {
          "name": "stdout",
          "output_type": "stream",
          "text": [
            "progress: 37/366 stitched\r\n",
            "progress: 74/366 stitched\r\n"
          ]
        },
        {
          "name": "stdout",
          "output_type": "stream",
          "text": [
            "progress: 111/366 stitched\r\n",
            "progress: 148/366 stitched\r\n"
          ]
        },
        {
          "name": "stdout",
          "output_type": "stream",
          "text": [
            "progress: 185/366 stitched\r\n",
            "progress: 222/366 stitched\r\n"
          ]
        },
        {
          "name": "stdout",
          "output_type": "stream",
          "text": [
            "progress: 259/366 stitched\r\n",
            "progress: 296/366 stitched\r\n"
          ]
        },
        {
          "name": "stdout",
          "output_type": "stream",
          "text": [
            "progress: 333/366 stitched\r\n"
          ]
        },
        {
          "name": "stdout",
          "output_type": "stream",
          "text": [
            "segmentation took 10.397193431854248 seconds\r\n",
            "patching took 0.23962140083312988 seconds\r\n",
            "stitching took 0.6517529487609863 seconds\r\n",
            "\r\n",
            "\r\n",
            "progress: 0.23, 16/71\r\n",
            "processing TCGA-13-0922-01A-01-TS1.jp2\r\n"
          ]
        },
        {
          "name": "stdout",
          "output_type": "stream",
          "text": [
            "Number of contours found:  4585\r\n",
            "Number of foreground contours:  1642\r\n"
          ]
        },
        {
          "name": "stdout",
          "output_type": "stream",
          "text": [
            "Number of filtered contours:  1\r\n"
          ]
        },
        {
          "name": "stdout",
          "output_type": "stream",
          "text": [
            "Creating patches for:  TCGA-13-0922-01A-01-TS1 ...\r\n",
            "Total number of contours to process:  1\r\n",
            "Bounding Box: 504 739 8565 6746\r\n",
            "Contour Area: 26552927.0\r\n"
          ]
        },
        {
          "name": "stdout",
          "output_type": "stream",
          "text": [
            "Extracted 433 coordinates\r\n"
          ]
        },
        {
          "name": "stdout",
          "output_type": "stream",
          "text": [
            "start stitching TCGA-13-0922-01A-01-TS1\r\n",
            "original size: 9488 x 8547\r\n",
            "downscaled size for stiching: 9488 x 8547\r\n",
            "number of patches: 433\r\n",
            "patch size: 256x256 patch level: 0\r\n",
            "ref patch size: (256, 256)x(256, 256)\r\n"
          ]
        },
        {
          "name": "stdout",
          "output_type": "stream",
          "text": [
            "downscaled patch size: 256x256\r\n",
            "progress: 0/433 stitched\r\n"
          ]
        },
        {
          "name": "stdout",
          "output_type": "stream",
          "text": [
            "progress: 44/433 stitched\r\n",
            "progress: 88/433 stitched\r\n"
          ]
        },
        {
          "name": "stdout",
          "output_type": "stream",
          "text": [
            "progress: 132/433 stitched\r\n"
          ]
        },
        {
          "name": "stdout",
          "output_type": "stream",
          "text": [
            "progress: 176/433 stitched\r\n",
            "progress: 220/433 stitched\r\n"
          ]
        },
        {
          "name": "stdout",
          "output_type": "stream",
          "text": [
            "progress: 264/433 stitched\r\n",
            "progress: 308/433 stitched\r\n"
          ]
        },
        {
          "name": "stdout",
          "output_type": "stream",
          "text": [
            "progress: 352/433 stitched\r\n"
          ]
        },
        {
          "name": "stdout",
          "output_type": "stream",
          "text": [
            "progress: 396/433 stitched\r\n"
          ]
        },
        {
          "name": "stdout",
          "output_type": "stream",
          "text": [
            "segmentation took 16.803059101104736 seconds\r\n",
            "patching took 0.2955167293548584 seconds\r\n",
            "stitching took 1.0652735233306885 seconds\r\n",
            "\r\n",
            "\r\n",
            "progress: 0.24, 17/71\r\n",
            "processing TCGA-13-1506-01A-01-BS1.jp2\r\n"
          ]
        },
        {
          "name": "stdout",
          "output_type": "stream",
          "text": [
            "Number of contours found:  6403\r\n",
            "Number of foreground contours:  673\r\n",
            "Number of filtered contours:  1\r\n"
          ]
        },
        {
          "name": "stdout",
          "output_type": "stream",
          "text": [
            "Creating patches for:  TCGA-13-1506-01A-01-BS1 ...\r\n",
            "Total number of contours to process:  1\r\n",
            "Bounding Box: 227 0 4137 7030\r\n",
            "Contour Area: 19270613.0\r\n"
          ]
        },
        {
          "name": "stdout",
          "output_type": "stream",
          "text": [
            "Extracted 327 coordinates\r\n",
            "start stitching TCGA-13-1506-01A-01-BS1\r\n",
            "original size: 4500 x 7104\r\n",
            "downscaled size for stiching: 4500 x 7104\r\n",
            "number of patches: 327\r\n",
            "patch size: 256x256 patch level: 0\r\n",
            "ref patch size: (256, 256)x(256, 256)\r\n"
          ]
        },
        {
          "name": "stdout",
          "output_type": "stream",
          "text": [
            "downscaled patch size: 256x256\r\n",
            "progress: 0/327 stitched\r\n"
          ]
        },
        {
          "name": "stdout",
          "output_type": "stream",
          "text": [
            "progress: 33/327 stitched\r\n",
            "progress: 66/327 stitched\r\n",
            "progress: 99/327 stitched\r\n"
          ]
        },
        {
          "name": "stdout",
          "output_type": "stream",
          "text": [
            "progress: 132/327 stitched\r\n",
            "progress: 165/327 stitched\r\n"
          ]
        },
        {
          "name": "stdout",
          "output_type": "stream",
          "text": [
            "progress: 198/327 stitched\r\n",
            "progress: 231/327 stitched\r\n"
          ]
        },
        {
          "name": "stdout",
          "output_type": "stream",
          "text": [
            "progress: 264/327 stitched\r\n",
            "progress: 297/327 stitched\r\n"
          ]
        },
        {
          "name": "stdout",
          "output_type": "stream",
          "text": [
            "segmentation took 6.525995969772339 seconds\r\n",
            "patching took 0.22837114334106445 seconds\r\n",
            "stitching took 0.461179256439209 seconds\r\n",
            "\r\n",
            "\r\n",
            "progress: 0.25, 18/71\r\n",
            "processing TCGA-13-1819-01A-01-BS1.jp2\r\n"
          ]
        },
        {
          "name": "stdout",
          "output_type": "stream",
          "text": [
            "Number of contours found:  3092\r\n",
            "Number of foreground contours:  845\r\n",
            "Number of filtered contours:  1\r\n"
          ]
        },
        {
          "name": "stdout",
          "output_type": "stream",
          "text": [
            "Creating patches for:  TCGA-13-1819-01A-01-BS1 ...\r\n",
            "Total number of contours to process:  1\r\n",
            "Bounding Box: 233 56 5685 7212\r\n",
            "Contour Area: 20657046.5\r\n"
          ]
        },
        {
          "name": "stdout",
          "output_type": "stream",
          "text": [
            "Extracted 344 coordinates\r\n"
          ]
        },
        {
          "name": "stdout",
          "output_type": "stream",
          "text": [
            "start stitching TCGA-13-1819-01A-01-BS1\r\n",
            "original size: 6000 x 8148\r\n",
            "downscaled size for stiching: 6000 x 8148\r\n",
            "number of patches: 344\r\n",
            "patch size: 256x256 patch level: 0\r\n",
            "ref patch size: (256, 256)x(256, 256)\r\n"
          ]
        },
        {
          "name": "stdout",
          "output_type": "stream",
          "text": [
            "downscaled patch size: 256x256\r\n",
            "progress: 0/344 stitched\r\n",
            "progress: 35/344 stitched\r\n"
          ]
        },
        {
          "name": "stdout",
          "output_type": "stream",
          "text": [
            "progress: 70/344 stitched\r\n",
            "progress: 105/344 stitched\r\n"
          ]
        },
        {
          "name": "stdout",
          "output_type": "stream",
          "text": [
            "progress: 140/344 stitched\r\n",
            "progress: 175/344 stitched\r\n"
          ]
        },
        {
          "name": "stdout",
          "output_type": "stream",
          "text": [
            "progress: 210/344 stitched\r\n",
            "progress: 245/344 stitched\r\n"
          ]
        },
        {
          "name": "stdout",
          "output_type": "stream",
          "text": [
            "progress: 280/344 stitched\r\n",
            "progress: 315/344 stitched\r\n"
          ]
        },
        {
          "name": "stdout",
          "output_type": "stream",
          "text": [
            "segmentation took 9.708309650421143 seconds\r\n",
            "patching took 0.20639920234680176 seconds\r\n",
            "stitching took 0.5795514583587646 seconds\r\n"
          ]
        },
        {
          "name": "stdout",
          "output_type": "stream",
          "text": [
            "\r\n",
            "\r\n",
            "progress: 0.27, 19/71\r\n",
            "processing TCGA-20-1686-01A-01-BS1.jp2\r\n"
          ]
        },
        {
          "name": "stdout",
          "output_type": "stream",
          "text": [
            "Number of contours found:  5768\r\n",
            "Number of foreground contours:  1349\r\n"
          ]
        },
        {
          "name": "stdout",
          "output_type": "stream",
          "text": [
            "Number of filtered contours:  2\r\n"
          ]
        },
        {
          "name": "stdout",
          "output_type": "stream",
          "text": [
            "Creating patches for:  TCGA-20-1686-01A-01-BS1 ...\r\n",
            "Total number of contours to process:  2\r\n",
            "Bounding Box: 1152 5902 3086 3193\r\n",
            "Contour Area: 5824629.0\r\n"
          ]
        },
        {
          "name": "stdout",
          "output_type": "stream",
          "text": [
            "Extracted 104 coordinates\r\n"
          ]
        },
        {
          "name": "stdout",
          "output_type": "stream",
          "text": [
            "Bounding Box: 98 0 3879 2516\r\n",
            "Contour Area: 6642829.0\r\n"
          ]
        },
        {
          "name": "stdout",
          "output_type": "stream",
          "text": [
            "Extracted 113 coordinates\r\n"
          ]
        },
        {
          "name": "stdout",
          "output_type": "stream",
          "text": [
            "start stitching TCGA-20-1686-01A-01-BS1\r\n",
            "original size: 4500 x 9217\r\n",
            "downscaled size for stiching: 4500 x 9217\r\n",
            "number of patches: 217\r\n",
            "patch size: 256x256 patch level: 0\r\n",
            "ref patch size: (256, 256)x(256, 256)\r\n"
          ]
        },
        {
          "name": "stdout",
          "output_type": "stream",
          "text": [
            "downscaled patch size: 256x256\r\n",
            "progress: 0/217 stitched\r\n",
            "progress: 22/217 stitched\r\n",
            "progress: 44/217 stitched\r\n"
          ]
        },
        {
          "name": "stdout",
          "output_type": "stream",
          "text": [
            "progress: 66/217 stitched\r\n",
            "progress: 88/217 stitched\r\n",
            "progress: 110/217 stitched\r\n"
          ]
        },
        {
          "name": "stdout",
          "output_type": "stream",
          "text": [
            "progress: 132/217 stitched\r\n",
            "progress: 154/217 stitched\r\n",
            "progress: 176/217 stitched\r\n"
          ]
        },
        {
          "name": "stdout",
          "output_type": "stream",
          "text": [
            "progress: 198/217 stitched\r\n"
          ]
        },
        {
          "name": "stdout",
          "output_type": "stream",
          "text": [
            "segmentation took 8.236630201339722 seconds\r\n",
            "patching took 0.2300422191619873 seconds\r\n",
            "stitching took 0.46756982803344727 seconds\r\n",
            "\r\n",
            "\r\n",
            "progress: 0.28, 20/71\r\n",
            "processing TCGA-20-1686-01A-01-TS1.jp2\r\n"
          ]
        },
        {
          "name": "stdout",
          "output_type": "stream",
          "text": [
            "Number of contours found:  768\r\n",
            "Number of foreground contours:  246\r\n",
            "Number of filtered contours:  1\r\n"
          ]
        },
        {
          "name": "stdout",
          "output_type": "stream",
          "text": [
            "Creating patches for:  TCGA-20-1686-01A-01-TS1 ...\r\n",
            "Total number of contours to process:  1\r\n",
            "Bounding Box: 106 178 3118 3957\r\n",
            "Contour Area: 8762625.5\r\n"
          ]
        },
        {
          "name": "stdout",
          "output_type": "stream",
          "text": [
            "Extracted 148 coordinates\r\n"
          ]
        },
        {
          "name": "stdout",
          "output_type": "stream",
          "text": [
            "start stitching TCGA-20-1686-01A-01-TS1\r\n",
            "original size: 3500 x 4239\r\n",
            "downscaled size for stiching: 3500 x 4239\r\n",
            "number of patches: 148\r\n",
            "patch size: 256x256 patch level: 0\r\n",
            "ref patch size: (256, 256)x(256, 256)\r\n"
          ]
        },
        {
          "name": "stdout",
          "output_type": "stream",
          "text": [
            "downscaled patch size: 256x256\r\n",
            "progress: 0/148 stitched\r\n"
          ]
        },
        {
          "name": "stdout",
          "output_type": "stream",
          "text": [
            "progress: 15/148 stitched\r\n",
            "progress: 30/148 stitched\r\n",
            "progress: 45/148 stitched\r\n",
            "progress: 60/148 stitched\r\n",
            "progress: 75/148 stitched\r\n"
          ]
        },
        {
          "name": "stdout",
          "output_type": "stream",
          "text": [
            "progress: 90/148 stitched\r\n",
            "progress: 105/148 stitched\r\n",
            "progress: 120/148 stitched\r\n",
            "progress: 135/148 stitched\r\n"
          ]
        },
        {
          "name": "stdout",
          "output_type": "stream",
          "text": [
            "segmentation took 2.854438543319702 seconds\r\n",
            "patching took 0.12337994575500488 seconds\r\n",
            "stitching took 0.19902729988098145 seconds\r\n",
            "\r\n",
            "\r\n",
            "progress: 0.30, 21/71\r\n",
            "processing TCGA-23-2072-01A-01-BS1.jp2\r\n"
          ]
        },
        {
          "name": "stdout",
          "output_type": "stream",
          "text": [
            "Number of contours found:  3285\r\n",
            "Number of foreground contours:  1123\r\n"
          ]
        },
        {
          "name": "stdout",
          "output_type": "stream",
          "text": [
            "Number of filtered contours:  1\r\n"
          ]
        },
        {
          "name": "stdout",
          "output_type": "stream",
          "text": [
            "Creating patches for:  TCGA-23-2072-01A-01-BS1 ...\r\n",
            "Total number of contours to process:  1\r\n",
            "Bounding Box: 2950 2590 4521 3199\r\n",
            "Contour Area: 6966040.5\r\n"
          ]
        },
        {
          "name": "stdout",
          "output_type": "stream",
          "text": [
            "Extracted 129 coordinates\r\n"
          ]
        },
        {
          "name": "stdout",
          "output_type": "stream",
          "text": [
            "start stitching TCGA-23-2072-01A-01-BS1\r\n",
            "original size: 8000 x 6188\r\n",
            "downscaled size for stiching: 8000 x 6188\r\n",
            "number of patches: 129\r\n",
            "patch size: 256x256 patch level: 0\r\n",
            "ref patch size: (256, 256)x(256, 256)\r\n"
          ]
        },
        {
          "name": "stdout",
          "output_type": "stream",
          "text": [
            "downscaled patch size: 256x256\r\n",
            "progress: 0/129 stitched\r\n",
            "progress: 13/129 stitched\r\n"
          ]
        },
        {
          "name": "stdout",
          "output_type": "stream",
          "text": [
            "progress: 26/129 stitched\r\n",
            "progress: 39/129 stitched\r\n",
            "progress: 52/129 stitched\r\n",
            "progress: 65/129 stitched\r\n",
            "progress: 78/129 stitched\r\n",
            "progress: 91/129 stitched\r\n"
          ]
        },
        {
          "name": "stdout",
          "output_type": "stream",
          "text": [
            "progress: 104/129 stitched\r\n",
            "progress: 117/129 stitched\r\n"
          ]
        },
        {
          "name": "stdout",
          "output_type": "stream",
          "text": [
            "segmentation took 9.696561336517334 seconds\r\n",
            "patching took 0.1352224349975586 seconds\r\n",
            "stitching took 0.44720888137817383 seconds\r\n",
            "\r\n",
            "\r\n",
            "progress: 0.31, 22/71\r\n",
            "processing TCGA-23-2072-01A-01-TS1.jp2\r\n"
          ]
        },
        {
          "name": "stdout",
          "output_type": "stream",
          "text": [
            "Number of contours found:  6201\r\n",
            "Number of foreground contours:  941\r\n"
          ]
        },
        {
          "name": "stdout",
          "output_type": "stream",
          "text": [
            "Number of filtered contours:  2\r\n"
          ]
        },
        {
          "name": "stdout",
          "output_type": "stream",
          "text": [
            "Creating patches for:  TCGA-23-2072-01A-01-TS1 ...\r\n",
            "Total number of contours to process:  2\r\n",
            "Bounding Box: 650 743 3704 3765\r\n",
            "Contour Area: 8789371.5\r\n"
          ]
        },
        {
          "name": "stdout",
          "output_type": "stream",
          "text": [
            "Extracted 141 coordinates\r\n",
            "Bounding Box: 2868 392 4033 4907\r\n",
            "Contour Area: 8089918.5\r\n"
          ]
        },
        {
          "name": "stdout",
          "output_type": "stream",
          "text": [
            "Extracted 145 coordinates\r\n"
          ]
        },
        {
          "name": "stdout",
          "output_type": "stream",
          "text": [
            "start stitching TCGA-23-2072-01A-01-TS1\r\n",
            "original size: 7000 x 5926\r\n",
            "downscaled size for stiching: 7000 x 5926\r\n",
            "number of patches: 286\r\n",
            "patch size: 256x256 patch level: 0\r\n",
            "ref patch size: (256, 256)x(256, 256)\r\n"
          ]
        },
        {
          "name": "stdout",
          "output_type": "stream",
          "text": [
            "downscaled patch size: 256x256\r\n",
            "progress: 0/286 stitched\r\n"
          ]
        },
        {
          "name": "stdout",
          "output_type": "stream",
          "text": [
            "progress: 29/286 stitched\r\n",
            "progress: 58/286 stitched\r\n"
          ]
        },
        {
          "name": "stdout",
          "output_type": "stream",
          "text": [
            "progress: 87/286 stitched\r\n",
            "progress: 116/286 stitched\r\n",
            "progress: 145/286 stitched\r\n"
          ]
        },
        {
          "name": "stdout",
          "output_type": "stream",
          "text": [
            "progress: 174/286 stitched\r\n",
            "progress: 203/286 stitched\r\n"
          ]
        },
        {
          "name": "stdout",
          "output_type": "stream",
          "text": [
            "progress: 232/286 stitched\r\n",
            "progress: 261/286 stitched\r\n"
          ]
        },
        {
          "name": "stdout",
          "output_type": "stream",
          "text": [
            "segmentation took 8.364946603775024 seconds\r\n",
            "patching took 0.2588183879852295 seconds\r\n",
            "stitching took 0.48214101791381836 seconds\r\n",
            "\r\n",
            "\r\n",
            "progress: 0.32, 23/71\r\n",
            "processing TCGA-24-1104-01A-01-BS1.jp2\r\n"
          ]
        },
        {
          "name": "stdout",
          "output_type": "stream",
          "text": [
            "Number of contours found:  8179\r\n",
            "Number of foreground contours:  848\r\n"
          ]
        },
        {
          "name": "stdout",
          "output_type": "stream",
          "text": [
            "Number of filtered contours:  1\r\n"
          ]
        },
        {
          "name": "stdout",
          "output_type": "stream",
          "text": [
            "Creating patches for:  TCGA-24-1104-01A-01-BS1 ...\r\n",
            "Total number of contours to process:  1\r\n",
            "Bounding Box: 438 403 6370 6783\r\n",
            "Contour Area: 24785145.5\r\n"
          ]
        },
        {
          "name": "stdout",
          "output_type": "stream",
          "text": [
            "Extracted 415 coordinates\r\n"
          ]
        },
        {
          "name": "stdout",
          "output_type": "stream",
          "text": [
            "start stitching TCGA-24-1104-01A-01-BS1\r\n",
            "original size: 7194 x 7408\r\n",
            "downscaled size for stiching: 7194 x 7408\r\n",
            "number of patches: 415\r\n",
            "patch size: 256x256 patch level: 0\r\n",
            "ref patch size: (256, 256)x(256, 256)\r\n"
          ]
        },
        {
          "name": "stdout",
          "output_type": "stream",
          "text": [
            "downscaled patch size: 256x256\r\n",
            "progress: 0/415 stitched\r\n"
          ]
        },
        {
          "name": "stdout",
          "output_type": "stream",
          "text": [
            "progress: 42/415 stitched\r\n",
            "progress: 84/415 stitched\r\n"
          ]
        },
        {
          "name": "stdout",
          "output_type": "stream",
          "text": [
            "progress: 126/415 stitched\r\n",
            "progress: 168/415 stitched\r\n"
          ]
        },
        {
          "name": "stdout",
          "output_type": "stream",
          "text": [
            "progress: 210/415 stitched\r\n"
          ]
        },
        {
          "name": "stdout",
          "output_type": "stream",
          "text": [
            "progress: 252/415 stitched\r\n",
            "progress: 294/415 stitched\r\n"
          ]
        },
        {
          "name": "stdout",
          "output_type": "stream",
          "text": [
            "progress: 336/415 stitched\r\n",
            "progress: 378/415 stitched\r\n"
          ]
        },
        {
          "name": "stdout",
          "output_type": "stream",
          "text": [
            "segmentation took 10.550865888595581 seconds\r\n",
            "patching took 0.18753623962402344 seconds\r\n",
            "stitching took 0.6868150234222412 seconds\r\n",
            "\r\n",
            "\r\n",
            "progress: 0.34, 24/71\r\n",
            "processing TCGA-24-1416-01A-01-BS1.jp2\r\n"
          ]
        },
        {
          "name": "stdout",
          "output_type": "stream",
          "text": [
            "Number of contours found:  3896\r\n",
            "Number of foreground contours:  328\r\n",
            "Number of filtered contours:  1\r\n"
          ]
        }
      ],
      "source": [
        "!python3 pipeline_preprocessing.py --source_dir TCGA-jp2  --save_dir RESULT_PATCHES_DIRECTORY"
      ]
    },
    {
      "cell_type": "code",
      "execution_count": null,
      "id": "5c187cea",
      "metadata": {
        "papermill": {
          "duration": null,
          "end_time": null,
          "exception": null,
          "start_time": null,
          "status": "pending"
        },
        "tags": [],
        "id": "5c187cea"
      },
      "outputs": [],
      "source": []
    }
  ],
  "metadata": {
    "kaggle": {
      "accelerator": "gpu",
      "dataSources": [],
      "dockerImageVersionId": 30787,
      "isGpuEnabled": true,
      "isInternetEnabled": true,
      "language": "python",
      "sourceType": "notebook"
    },
    "kernelspec": {
      "display_name": "Python 3",
      "name": "python3"
    },
    "language_info": {
      "codemirror_mode": {
        "name": "ipython",
        "version": 3
      },
      "file_extension": ".py",
      "mimetype": "text/x-python",
      "name": "python",
      "nbconvert_exporter": "python",
      "pygments_lexer": "ipython3",
      "version": "3.10.14"
    },
    "papermill": {
      "default_parameters": {},
      "duration": null,
      "end_time": null,
      "environment_variables": {},
      "exception": null,
      "input_path": "__notebook__.ipynb",
      "output_path": "__notebook__.ipynb",
      "parameters": {},
      "start_time": "2024-11-15T14:31:01.185558",
      "version": "2.6.0"
    },
    "colab": {
      "provenance": [],
      "gpuType": "T4"
    },
    "accelerator": "GPU"
  },
  "nbformat": 4,
  "nbformat_minor": 5
}